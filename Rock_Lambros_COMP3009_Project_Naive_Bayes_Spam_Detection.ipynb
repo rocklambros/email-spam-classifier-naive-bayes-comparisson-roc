{
  "nbformat": 4,
  "nbformat_minor": 0,
  "metadata": {
    "colab": {
      "provenance": [],
      "include_colab_link": true
    },
    "kernelspec": {
      "name": "python3",
      "display_name": "Python 3"
    },
    "language_info": {
      "name": "python"
    }
  },
  "cells": [
    {
      "cell_type": "markdown",
      "metadata": {
        "id": "view-in-github",
        "colab_type": "text"
      },
      "source": [
        "<a href=\"https://colab.research.google.com/github/rocklambros/email-spam-classifier-naive-bayes-comparisson-roc/blob/main/Rock_Lambros_COMP3009_Project_Naive_Bayes_Spam_Detection.ipynb\" target=\"_parent\"><img src=\"https://colab.research.google.com/assets/colab-badge.svg\" alt=\"Open In Colab\"/></a>"
      ]
    },
    {
      "cell_type": "code",
      "execution_count": null,
      "metadata": {
        "id": "gqflyThRabWC"
      },
      "outputs": [],
      "source": []
    },
    {
      "cell_type": "markdown",
      "metadata": {
        "id": "15e21a7c"
      },
      "source": [
        "# Task\n",
        "Implement a Naive Bayes classifier from scratch and using scikit-learn to classify emails as spam or not spam based on the dataset provided in \"/content/synthetic_email_dataset.csv\". Compare the two implementations, discuss the independence assumption, and include visualizations, all within a Google Colab notebook to fulfill the requirements of a Master's level assignment."
      ]
    },
    {
      "cell_type": "markdown",
      "metadata": {
        "id": "7c356c08"
      },
      "source": [
        "## Load and explore data\n",
        "\n",
        "### Subtask:\n",
        "Load the `synthetic_email_dataset.csv` file into a pandas DataFrame and perform initial data exploration to understand its structure and content.\n"
      ]
    },
    {
      "cell_type": "markdown",
      "metadata": {
        "id": "cfa94d4f"
      },
      "source": [
        "**Reasoning**:\n",
        "Load the data into a pandas DataFrame and perform initial exploration as instructed.\n",
        "\n"
      ]
    },
    {
      "cell_type": "code",
      "metadata": {
        "colab": {
          "base_uri": "https://localhost:8080/",
          "height": 1000
        },
        "id": "aab877f8",
        "outputId": "22b370b0-d060-45c8-9e42-d6e515b19e36"
      },
      "source": [
        "import pandas as pd\n",
        "\n",
        "# Load the dataset\n",
        "df = pd.read_csv('/content/synthetic_email_dataset.csv') # Load the CSV file into a pandas DataFrame.\n",
        "\n",
        "# Display the first 5 rows\n",
        "print(\"First 5 rows of the DataFrame:\")\n",
        "display(df.head()) # Display the first few rows to inspect the data.\n",
        "\n",
        "# Get information about the DataFrame\n",
        "print(\"\\nDataFrame Info:\")\n",
        "df.info() # Print concise summary of the DataFrame, including column data types and non-null values.\n",
        "\n",
        "# Get descriptive statistics of numerical columns\n",
        "print(\"\\nDescriptive Statistics:\")\n",
        "display(df.describe()) # Display descriptive statistics for numerical columns (or object columns in this case)."
      ],
      "execution_count": null,
      "outputs": [
        {
          "output_type": "stream",
          "name": "stdout",
          "text": [
            "First 5 rows of the DataFrame:\n"
          ]
        },
        {
          "output_type": "display_data",
          "data": {
            "text/plain": [
              "     Status                From (Envelope)  \\\n",
              "0  Archived       <support@university.edu>   \n",
              "1  Archived    <mike.johnson@business.net>   \n",
              "2   Bounced       <support@consulting.com>   \n",
              "3   Bounced         <promo488@offers.info>   \n",
              "4   Bounced  <marketing4041@untrusted.biz>   \n",
              "\n",
              "                              From (Header)                  To  \\\n",
              "0          Support <support@university.edu>  <user@example.com>   \n",
              "1  Mike.Johnson <mike.johnson@business.net>  <user@example.com>   \n",
              "2          Support <support@consulting.com>  <user@example.com>   \n",
              "3                    <promo488@offers.info>  <user@example.com>   \n",
              "4             <marketing4041@untrusted.biz>  <user@example.com>   \n",
              "\n",
              "                           Subject                Sent Date/Time  \\\n",
              "0     Project update - AI Research  Thu Sep 25 06:14:32 EDT 2025   \n",
              "1    Account security notification  Tue Sep 16 11:38:16 EDT 2025   \n",
              "2  Weekly newsletter - AI Research  Fri Sep 19 14:40:53 EDT 2025   \n",
              "3            FREE trial - act now!  Sat Sep 20 01:51:20 EDT 2025   \n",
              "4         Last chance to save big!  Thu Sep 04 18:27:57 EDT 2025   \n",
              "\n",
              "      IP Address Attachment     Route                  Info  Spam Score  \\\n",
              "0  66.51.167.180        NaN   inbound           Hard Bounce           1   \n",
              "1  74.187.32.250        NaN   inbound     Awaiting indexing           0   \n",
              "2   10.94.172.69        NaN  outbound                   NaN           0   \n",
              "3   205.69.17.55        NaN  outbound                   NaN          21   \n",
              "4  217.103.93.57        NaN   inbound  Indexed and archived          49   \n",
              "\n",
              "  Spam Detection  \n",
              "0            NaN  \n",
              "1            NaN  \n",
              "2            NaN  \n",
              "3       Moderate  \n",
              "4       Moderate  "
            ],
            "text/html": [
              "\n",
              "  <div id=\"df-acf419d6-06af-4edf-ae9b-49e33c1ded51\" class=\"colab-df-container\">\n",
              "    <div>\n",
              "<style scoped>\n",
              "    .dataframe tbody tr th:only-of-type {\n",
              "        vertical-align: middle;\n",
              "    }\n",
              "\n",
              "    .dataframe tbody tr th {\n",
              "        vertical-align: top;\n",
              "    }\n",
              "\n",
              "    .dataframe thead th {\n",
              "        text-align: right;\n",
              "    }\n",
              "</style>\n",
              "<table border=\"1\" class=\"dataframe\">\n",
              "  <thead>\n",
              "    <tr style=\"text-align: right;\">\n",
              "      <th></th>\n",
              "      <th>Status</th>\n",
              "      <th>From (Envelope)</th>\n",
              "      <th>From (Header)</th>\n",
              "      <th>To</th>\n",
              "      <th>Subject</th>\n",
              "      <th>Sent Date/Time</th>\n",
              "      <th>IP Address</th>\n",
              "      <th>Attachment</th>\n",
              "      <th>Route</th>\n",
              "      <th>Info</th>\n",
              "      <th>Spam Score</th>\n",
              "      <th>Spam Detection</th>\n",
              "    </tr>\n",
              "  </thead>\n",
              "  <tbody>\n",
              "    <tr>\n",
              "      <th>0</th>\n",
              "      <td>Archived</td>\n",
              "      <td>&lt;support@university.edu&gt;</td>\n",
              "      <td>Support &lt;support@university.edu&gt;</td>\n",
              "      <td>&lt;user@example.com&gt;</td>\n",
              "      <td>Project update - AI Research</td>\n",
              "      <td>Thu Sep 25 06:14:32 EDT 2025</td>\n",
              "      <td>66.51.167.180</td>\n",
              "      <td>NaN</td>\n",
              "      <td>inbound</td>\n",
              "      <td>Hard Bounce</td>\n",
              "      <td>1</td>\n",
              "      <td>NaN</td>\n",
              "    </tr>\n",
              "    <tr>\n",
              "      <th>1</th>\n",
              "      <td>Archived</td>\n",
              "      <td>&lt;mike.johnson@business.net&gt;</td>\n",
              "      <td>Mike.Johnson &lt;mike.johnson@business.net&gt;</td>\n",
              "      <td>&lt;user@example.com&gt;</td>\n",
              "      <td>Account security notification</td>\n",
              "      <td>Tue Sep 16 11:38:16 EDT 2025</td>\n",
              "      <td>74.187.32.250</td>\n",
              "      <td>NaN</td>\n",
              "      <td>inbound</td>\n",
              "      <td>Awaiting indexing</td>\n",
              "      <td>0</td>\n",
              "      <td>NaN</td>\n",
              "    </tr>\n",
              "    <tr>\n",
              "      <th>2</th>\n",
              "      <td>Bounced</td>\n",
              "      <td>&lt;support@consulting.com&gt;</td>\n",
              "      <td>Support &lt;support@consulting.com&gt;</td>\n",
              "      <td>&lt;user@example.com&gt;</td>\n",
              "      <td>Weekly newsletter - AI Research</td>\n",
              "      <td>Fri Sep 19 14:40:53 EDT 2025</td>\n",
              "      <td>10.94.172.69</td>\n",
              "      <td>NaN</td>\n",
              "      <td>outbound</td>\n",
              "      <td>NaN</td>\n",
              "      <td>0</td>\n",
              "      <td>NaN</td>\n",
              "    </tr>\n",
              "    <tr>\n",
              "      <th>3</th>\n",
              "      <td>Bounced</td>\n",
              "      <td>&lt;promo488@offers.info&gt;</td>\n",
              "      <td>&lt;promo488@offers.info&gt;</td>\n",
              "      <td>&lt;user@example.com&gt;</td>\n",
              "      <td>FREE trial - act now!</td>\n",
              "      <td>Sat Sep 20 01:51:20 EDT 2025</td>\n",
              "      <td>205.69.17.55</td>\n",
              "      <td>NaN</td>\n",
              "      <td>outbound</td>\n",
              "      <td>NaN</td>\n",
              "      <td>21</td>\n",
              "      <td>Moderate</td>\n",
              "    </tr>\n",
              "    <tr>\n",
              "      <th>4</th>\n",
              "      <td>Bounced</td>\n",
              "      <td>&lt;marketing4041@untrusted.biz&gt;</td>\n",
              "      <td>&lt;marketing4041@untrusted.biz&gt;</td>\n",
              "      <td>&lt;user@example.com&gt;</td>\n",
              "      <td>Last chance to save big!</td>\n",
              "      <td>Thu Sep 04 18:27:57 EDT 2025</td>\n",
              "      <td>217.103.93.57</td>\n",
              "      <td>NaN</td>\n",
              "      <td>inbound</td>\n",
              "      <td>Indexed and archived</td>\n",
              "      <td>49</td>\n",
              "      <td>Moderate</td>\n",
              "    </tr>\n",
              "  </tbody>\n",
              "</table>\n",
              "</div>\n",
              "    <div class=\"colab-df-buttons\">\n",
              "\n",
              "  <div class=\"colab-df-container\">\n",
              "    <button class=\"colab-df-convert\" onclick=\"convertToInteractive('df-acf419d6-06af-4edf-ae9b-49e33c1ded51')\"\n",
              "            title=\"Convert this dataframe to an interactive table.\"\n",
              "            style=\"display:none;\">\n",
              "\n",
              "  <svg xmlns=\"http://www.w3.org/2000/svg\" height=\"24px\" viewBox=\"0 -960 960 960\">\n",
              "    <path d=\"M120-120v-720h720v720H120Zm60-500h600v-160H180v160Zm220 220h160v-160H400v160Zm0 220h160v-160H400v160ZM180-400h160v-160H180v160Zm440 0h160v-160H620v160ZM180-180h160v-160H180v160Zm440 0h160v-160H620v160Z\"/>\n",
              "  </svg>\n",
              "    </button>\n",
              "\n",
              "  <style>\n",
              "    .colab-df-container {\n",
              "      display:flex;\n",
              "      gap: 12px;\n",
              "    }\n",
              "\n",
              "    .colab-df-convert {\n",
              "      background-color: #E8F0FE;\n",
              "      border: none;\n",
              "      border-radius: 50%;\n",
              "      cursor: pointer;\n",
              "      display: none;\n",
              "      fill: #1967D2;\n",
              "      height: 32px;\n",
              "      padding: 0 0 0 0;\n",
              "      width: 32px;\n",
              "    }\n",
              "\n",
              "    .colab-df-convert:hover {\n",
              "      background-color: #E2EBFA;\n",
              "      box-shadow: 0px 1px 2px rgba(60, 64, 67, 0.3), 0px 1px 3px 1px rgba(60, 64, 67, 0.15);\n",
              "      fill: #174EA6;\n",
              "    }\n",
              "\n",
              "    .colab-df-buttons div {\n",
              "      margin-bottom: 4px;\n",
              "    }\n",
              "\n",
              "    [theme=dark] .colab-df-convert {\n",
              "      background-color: #3B4455;\n",
              "      fill: #D2E3FC;\n",
              "    }\n",
              "\n",
              "    [theme=dark] .colab-df-convert:hover {\n",
              "      background-color: #434B5C;\n",
              "      box-shadow: 0px 1px 3px 1px rgba(0, 0, 0, 0.15);\n",
              "      filter: drop-shadow(0px 1px 2px rgba(0, 0, 0, 0.3));\n",
              "      fill: #FFFFFF;\n",
              "    }\n",
              "  </style>\n",
              "\n",
              "    <script>\n",
              "      const buttonEl =\n",
              "        document.querySelector('#df-acf419d6-06af-4edf-ae9b-49e33c1ded51 button.colab-df-convert');\n",
              "      buttonEl.style.display =\n",
              "        google.colab.kernel.accessAllowed ? 'block' : 'none';\n",
              "\n",
              "      async function convertToInteractive(key) {\n",
              "        const element = document.querySelector('#df-acf419d6-06af-4edf-ae9b-49e33c1ded51');\n",
              "        const dataTable =\n",
              "          await google.colab.kernel.invokeFunction('convertToInteractive',\n",
              "                                                    [key], {});\n",
              "        if (!dataTable) return;\n",
              "\n",
              "        const docLinkHtml = 'Like what you see? Visit the ' +\n",
              "          '<a target=\"_blank\" href=https://colab.research.google.com/notebooks/data_table.ipynb>data table notebook</a>'\n",
              "          + ' to learn more about interactive tables.';\n",
              "        element.innerHTML = '';\n",
              "        dataTable['output_type'] = 'display_data';\n",
              "        await google.colab.output.renderOutput(dataTable, element);\n",
              "        const docLink = document.createElement('div');\n",
              "        docLink.innerHTML = docLinkHtml;\n",
              "        element.appendChild(docLink);\n",
              "      }\n",
              "    </script>\n",
              "  </div>\n",
              "\n",
              "\n",
              "    <div id=\"df-21641d3a-2d10-4baa-8cfb-b0fc6606a1ca\">\n",
              "      <button class=\"colab-df-quickchart\" onclick=\"quickchart('df-21641d3a-2d10-4baa-8cfb-b0fc6606a1ca')\"\n",
              "                title=\"Suggest charts\"\n",
              "                style=\"display:none;\">\n",
              "\n",
              "<svg xmlns=\"http://www.w3.org/2000/svg\" height=\"24px\"viewBox=\"0 0 24 24\"\n",
              "     width=\"24px\">\n",
              "    <g>\n",
              "        <path d=\"M19 3H5c-1.1 0-2 .9-2 2v14c0 1.1.9 2 2 2h14c1.1 0 2-.9 2-2V5c0-1.1-.9-2-2-2zM9 17H7v-7h2v7zm4 0h-2V7h2v10zm4 0h-2v-4h2v4z\"/>\n",
              "    </g>\n",
              "</svg>\n",
              "      </button>\n",
              "\n",
              "<style>\n",
              "  .colab-df-quickchart {\n",
              "      --bg-color: #E8F0FE;\n",
              "      --fill-color: #1967D2;\n",
              "      --hover-bg-color: #E2EBFA;\n",
              "      --hover-fill-color: #174EA6;\n",
              "      --disabled-fill-color: #AAA;\n",
              "      --disabled-bg-color: #DDD;\n",
              "  }\n",
              "\n",
              "  [theme=dark] .colab-df-quickchart {\n",
              "      --bg-color: #3B4455;\n",
              "      --fill-color: #D2E3FC;\n",
              "      --hover-bg-color: #434B5C;\n",
              "      --hover-fill-color: #FFFFFF;\n",
              "      --disabled-bg-color: #3B4455;\n",
              "      --disabled-fill-color: #666;\n",
              "  }\n",
              "\n",
              "  .colab-df-quickchart {\n",
              "    background-color: var(--bg-color);\n",
              "    border: none;\n",
              "    border-radius: 50%;\n",
              "    cursor: pointer;\n",
              "    display: none;\n",
              "    fill: var(--fill-color);\n",
              "    height: 32px;\n",
              "    padding: 0;\n",
              "    width: 32px;\n",
              "  }\n",
              "\n",
              "  .colab-df-quickchart:hover {\n",
              "    background-color: var(--hover-bg-color);\n",
              "    box-shadow: 0 1px 2px rgba(60, 64, 67, 0.3), 0 1px 3px 1px rgba(60, 64, 67, 0.15);\n",
              "    fill: var(--button-hover-fill-color);\n",
              "  }\n",
              "\n",
              "  .colab-df-quickchart-complete:disabled,\n",
              "  .colab-df-quickchart-complete:disabled:hover {\n",
              "    background-color: var(--disabled-bg-color);\n",
              "    fill: var(--disabled-fill-color);\n",
              "    box-shadow: none;\n",
              "  }\n",
              "\n",
              "  .colab-df-spinner {\n",
              "    border: 2px solid var(--fill-color);\n",
              "    border-color: transparent;\n",
              "    border-bottom-color: var(--fill-color);\n",
              "    animation:\n",
              "      spin 1s steps(1) infinite;\n",
              "  }\n",
              "\n",
              "  @keyframes spin {\n",
              "    0% {\n",
              "      border-color: transparent;\n",
              "      border-bottom-color: var(--fill-color);\n",
              "      border-left-color: var(--fill-color);\n",
              "    }\n",
              "    20% {\n",
              "      border-color: transparent;\n",
              "      border-left-color: var(--fill-color);\n",
              "      border-top-color: var(--fill-color);\n",
              "    }\n",
              "    30% {\n",
              "      border-color: transparent;\n",
              "      border-left-color: var(--fill-color);\n",
              "      border-top-color: var(--fill-color);\n",
              "      border-right-color: var(--fill-color);\n",
              "    }\n",
              "    40% {\n",
              "      border-color: transparent;\n",
              "      border-right-color: var(--fill-color);\n",
              "      border-top-color: var(--fill-color);\n",
              "    }\n",
              "    60% {\n",
              "      border-color: transparent;\n",
              "      border-right-color: var(--fill-color);\n",
              "    }\n",
              "    80% {\n",
              "      border-color: transparent;\n",
              "      border-right-color: var(--fill-color);\n",
              "      border-bottom-color: var(--fill-color);\n",
              "    }\n",
              "    90% {\n",
              "      border-color: transparent;\n",
              "      border-bottom-color: var(--fill-color);\n",
              "    }\n",
              "  }\n",
              "</style>\n",
              "\n",
              "      <script>\n",
              "        async function quickchart(key) {\n",
              "          const quickchartButtonEl =\n",
              "            document.querySelector('#' + key + ' button');\n",
              "          quickchartButtonEl.disabled = true;  // To prevent multiple clicks.\n",
              "          quickchartButtonEl.classList.add('colab-df-spinner');\n",
              "          try {\n",
              "            const charts = await google.colab.kernel.invokeFunction(\n",
              "                'suggestCharts', [key], {});\n",
              "          } catch (error) {\n",
              "            console.error('Error during call to suggestCharts:', error);\n",
              "          }\n",
              "          quickchartButtonEl.classList.remove('colab-df-spinner');\n",
              "          quickchartButtonEl.classList.add('colab-df-quickchart-complete');\n",
              "        }\n",
              "        (() => {\n",
              "          let quickchartButtonEl =\n",
              "            document.querySelector('#df-21641d3a-2d10-4baa-8cfb-b0fc6606a1ca button');\n",
              "          quickchartButtonEl.style.display =\n",
              "            google.colab.kernel.accessAllowed ? 'block' : 'none';\n",
              "        })();\n",
              "      </script>\n",
              "    </div>\n",
              "\n",
              "    </div>\n",
              "  </div>\n"
            ],
            "application/vnd.google.colaboratory.intrinsic+json": {
              "type": "dataframe",
              "repr_error": "Out of range float values are not JSON compliant: nan"
            }
          },
          "metadata": {}
        },
        {
          "output_type": "stream",
          "name": "stdout",
          "text": [
            "\n",
            "DataFrame Info:\n",
            "<class 'pandas.core.frame.DataFrame'>\n",
            "RangeIndex: 5000 entries, 0 to 4999\n",
            "Data columns (total 12 columns):\n",
            " #   Column           Non-Null Count  Dtype \n",
            "---  ------           --------------  ----- \n",
            " 0   Status           5000 non-null   object\n",
            " 1   From (Envelope)  5000 non-null   object\n",
            " 2   From (Header)    5000 non-null   object\n",
            " 3   To               5000 non-null   object\n",
            " 4   Subject          5000 non-null   object\n",
            " 5   Sent Date/Time   5000 non-null   object\n",
            " 6   IP Address       5000 non-null   object\n",
            " 7   Attachment       274 non-null    object\n",
            " 8   Route            5000 non-null   object\n",
            " 9   Info             2972 non-null   object\n",
            " 10  Spam Score       5000 non-null   int64 \n",
            " 11  Spam Detection   2487 non-null   object\n",
            "dtypes: int64(1), object(11)\n",
            "memory usage: 468.9+ KB\n",
            "\n",
            "Descriptive Statistics:\n"
          ]
        },
        {
          "output_type": "display_data",
          "data": {
            "text/plain": [
              "        Spam Score\n",
              "count  5000.000000\n",
              "mean     18.925600\n",
              "std      27.811335\n",
              "min       0.000000\n",
              "25%       0.000000\n",
              "50%       9.000000\n",
              "75%      30.000000\n",
              "max     156.000000"
            ],
            "text/html": [
              "\n",
              "  <div id=\"df-3ce20d6b-6236-49ef-a5a1-1dc1cf5b5255\" class=\"colab-df-container\">\n",
              "    <div>\n",
              "<style scoped>\n",
              "    .dataframe tbody tr th:only-of-type {\n",
              "        vertical-align: middle;\n",
              "    }\n",
              "\n",
              "    .dataframe tbody tr th {\n",
              "        vertical-align: top;\n",
              "    }\n",
              "\n",
              "    .dataframe thead th {\n",
              "        text-align: right;\n",
              "    }\n",
              "</style>\n",
              "<table border=\"1\" class=\"dataframe\">\n",
              "  <thead>\n",
              "    <tr style=\"text-align: right;\">\n",
              "      <th></th>\n",
              "      <th>Spam Score</th>\n",
              "    </tr>\n",
              "  </thead>\n",
              "  <tbody>\n",
              "    <tr>\n",
              "      <th>count</th>\n",
              "      <td>5000.000000</td>\n",
              "    </tr>\n",
              "    <tr>\n",
              "      <th>mean</th>\n",
              "      <td>18.925600</td>\n",
              "    </tr>\n",
              "    <tr>\n",
              "      <th>std</th>\n",
              "      <td>27.811335</td>\n",
              "    </tr>\n",
              "    <tr>\n",
              "      <th>min</th>\n",
              "      <td>0.000000</td>\n",
              "    </tr>\n",
              "    <tr>\n",
              "      <th>25%</th>\n",
              "      <td>0.000000</td>\n",
              "    </tr>\n",
              "    <tr>\n",
              "      <th>50%</th>\n",
              "      <td>9.000000</td>\n",
              "    </tr>\n",
              "    <tr>\n",
              "      <th>75%</th>\n",
              "      <td>30.000000</td>\n",
              "    </tr>\n",
              "    <tr>\n",
              "      <th>max</th>\n",
              "      <td>156.000000</td>\n",
              "    </tr>\n",
              "  </tbody>\n",
              "</table>\n",
              "</div>\n",
              "    <div class=\"colab-df-buttons\">\n",
              "\n",
              "  <div class=\"colab-df-container\">\n",
              "    <button class=\"colab-df-convert\" onclick=\"convertToInteractive('df-3ce20d6b-6236-49ef-a5a1-1dc1cf5b5255')\"\n",
              "            title=\"Convert this dataframe to an interactive table.\"\n",
              "            style=\"display:none;\">\n",
              "\n",
              "  <svg xmlns=\"http://www.w3.org/2000/svg\" height=\"24px\" viewBox=\"0 -960 960 960\">\n",
              "    <path d=\"M120-120v-720h720v720H120Zm60-500h600v-160H180v160Zm220 220h160v-160H400v160Zm0 220h160v-160H400v160ZM180-400h160v-160H180v160Zm440 0h160v-160H620v160ZM180-180h160v-160H180v160Zm440 0h160v-160H620v160Z\"/>\n",
              "  </svg>\n",
              "    </button>\n",
              "\n",
              "  <style>\n",
              "    .colab-df-container {\n",
              "      display:flex;\n",
              "      gap: 12px;\n",
              "    }\n",
              "\n",
              "    .colab-df-convert {\n",
              "      background-color: #E8F0FE;\n",
              "      border: none;\n",
              "      border-radius: 50%;\n",
              "      cursor: pointer;\n",
              "      display: none;\n",
              "      fill: #1967D2;\n",
              "      height: 32px;\n",
              "      padding: 0 0 0 0;\n",
              "      width: 32px;\n",
              "    }\n",
              "\n",
              "    .colab-df-convert:hover {\n",
              "      background-color: #E2EBFA;\n",
              "      box-shadow: 0px 1px 2px rgba(60, 64, 67, 0.3), 0px 1px 3px 1px rgba(60, 64, 67, 0.15);\n",
              "      fill: #174EA6;\n",
              "    }\n",
              "\n",
              "    .colab-df-buttons div {\n",
              "      margin-bottom: 4px;\n",
              "    }\n",
              "\n",
              "    [theme=dark] .colab-df-convert {\n",
              "      background-color: #3B4455;\n",
              "      fill: #D2E3FC;\n",
              "    }\n",
              "\n",
              "    [theme=dark] .colab-df-convert:hover {\n",
              "      background-color: #434B5C;\n",
              "      box-shadow: 0px 1px 3px 1px rgba(0, 0, 0, 0.15);\n",
              "      filter: drop-shadow(0px 1px 2px rgba(0, 0, 0, 0.3));\n",
              "      fill: #FFFFFF;\n",
              "    }\n",
              "  </style>\n",
              "\n",
              "    <script>\n",
              "      const buttonEl =\n",
              "        document.querySelector('#df-3ce20d6b-6236-49ef-a5a1-1dc1cf5b5255 button.colab-df-convert');\n",
              "      buttonEl.style.display =\n",
              "        google.colab.kernel.accessAllowed ? 'block' : 'none';\n",
              "\n",
              "      async function convertToInteractive(key) {\n",
              "        const element = document.querySelector('#df-3ce20d6b-6236-49ef-a5a1-1dc1cf5b5255');\n",
              "        const dataTable =\n",
              "          await google.colab.kernel.invokeFunction('convertToInteractive',\n",
              "                                                    [key], {});\n",
              "        if (!dataTable) return;\n",
              "\n",
              "        const docLinkHtml = 'Like what you see? Visit the ' +\n",
              "          '<a target=\"_blank\" href=https://colab.research.google.com/notebooks/data_table.ipynb>data table notebook</a>'\n",
              "          + ' to learn more about interactive tables.';\n",
              "        element.innerHTML = '';\n",
              "        dataTable['output_type'] = 'display_data';\n",
              "        await google.colab.output.renderOutput(dataTable, element);\n",
              "        const docLink = document.createElement('div');\n",
              "        docLink.innerHTML = docLinkHtml;\n",
              "        element.appendChild(docLink);\n",
              "      }\n",
              "    </script>\n",
              "  </div>\n",
              "\n",
              "\n",
              "    <div id=\"df-d7ebd033-e54c-4f34-afb5-1ac34dffb0d8\">\n",
              "      <button class=\"colab-df-quickchart\" onclick=\"quickchart('df-d7ebd033-e54c-4f34-afb5-1ac34dffb0d8')\"\n",
              "                title=\"Suggest charts\"\n",
              "                style=\"display:none;\">\n",
              "\n",
              "<svg xmlns=\"http://www.w3.org/2000/svg\" height=\"24px\"viewBox=\"0 0 24 24\"\n",
              "     width=\"24px\">\n",
              "    <g>\n",
              "        <path d=\"M19 3H5c-1.1 0-2 .9-2 2v14c0 1.1.9 2 2 2h14c1.1 0 2-.9 2-2V5c0-1.1-.9-2-2-2zM9 17H7v-7h2v7zm4 0h-2V7h2v10zm4 0h-2v-4h2v4z\"/>\n",
              "    </g>\n",
              "</svg>\n",
              "      </button>\n",
              "\n",
              "<style>\n",
              "  .colab-df-quickchart {\n",
              "      --bg-color: #E8F0FE;\n",
              "      --fill-color: #1967D2;\n",
              "      --hover-bg-color: #E2EBFA;\n",
              "      --hover-fill-color: #174EA6;\n",
              "      --disabled-fill-color: #AAA;\n",
              "      --disabled-bg-color: #DDD;\n",
              "  }\n",
              "\n",
              "  [theme=dark] .colab-df-quickchart {\n",
              "      --bg-color: #3B4455;\n",
              "      --fill-color: #D2E3FC;\n",
              "      --hover-bg-color: #434B5C;\n",
              "      --hover-fill-color: #FFFFFF;\n",
              "      --disabled-bg-color: #3B4455;\n",
              "      --disabled-fill-color: #666;\n",
              "  }\n",
              "\n",
              "  .colab-df-quickchart {\n",
              "    background-color: var(--bg-color);\n",
              "    border: none;\n",
              "    border-radius: 50%;\n",
              "    cursor: pointer;\n",
              "    display: none;\n",
              "    fill: var(--fill-color);\n",
              "    height: 32px;\n",
              "    padding: 0;\n",
              "    width: 32px;\n",
              "  }\n",
              "\n",
              "  .colab-df-quickchart:hover {\n",
              "    background-color: var(--hover-bg-color);\n",
              "    box-shadow: 0 1px 2px rgba(60, 64, 67, 0.3), 0 1px 3px 1px rgba(60, 64, 67, 0.15);\n",
              "    fill: var(--button-hover-fill-color);\n",
              "  }\n",
              "\n",
              "  .colab-df-quickchart-complete:disabled,\n",
              "  .colab-df-quickchart-complete:disabled:hover {\n",
              "    background-color: var(--disabled-bg-color);\n",
              "    fill: var(--disabled-fill-color);\n",
              "    box-shadow: none;\n",
              "  }\n",
              "\n",
              "  .colab-df-spinner {\n",
              "    border: 2px solid var(--fill-color);\n",
              "    border-color: transparent;\n",
              "    border-bottom-color: var(--fill-color);\n",
              "    animation:\n",
              "      spin 1s steps(1) infinite;\n",
              "  }\n",
              "\n",
              "  @keyframes spin {\n",
              "    0% {\n",
              "      border-color: transparent;\n",
              "      border-bottom-color: var(--fill-color);\n",
              "      border-left-color: var(--fill-color);\n",
              "    }\n",
              "    20% {\n",
              "      border-color: transparent;\n",
              "      border-left-color: var(--fill-color);\n",
              "      border-top-color: var(--fill-color);\n",
              "    }\n",
              "    30% {\n",
              "      border-color: transparent;\n",
              "      border-left-color: var(--fill-color);\n",
              "      border-top-color: var(--fill-color);\n",
              "      border-right-color: var(--fill-color);\n",
              "    }\n",
              "    40% {\n",
              "      border-color: transparent;\n",
              "      border-right-color: var(--fill-color);\n",
              "      border-top-color: var(--fill-color);\n",
              "    }\n",
              "    60% {\n",
              "      border-color: transparent;\n",
              "      border-right-color: var(--fill-color);\n",
              "    }\n",
              "    80% {\n",
              "      border-color: transparent;\n",
              "      border-right-color: var(--fill-color);\n",
              "      border-bottom-color: var(--fill-color);\n",
              "    }\n",
              "    90% {\n",
              "      border-color: transparent;\n",
              "      border-bottom-color: var(--fill-color);\n",
              "    }\n",
              "  }\n",
              "</style>\n",
              "\n",
              "      <script>\n",
              "        async function quickchart(key) {\n",
              "          const quickchartButtonEl =\n",
              "            document.querySelector('#' + key + ' button');\n",
              "          quickchartButtonEl.disabled = true;  // To prevent multiple clicks.\n",
              "          quickchartButtonEl.classList.add('colab-df-spinner');\n",
              "          try {\n",
              "            const charts = await google.colab.kernel.invokeFunction(\n",
              "                'suggestCharts', [key], {});\n",
              "          } catch (error) {\n",
              "            console.error('Error during call to suggestCharts:', error);\n",
              "          }\n",
              "          quickchartButtonEl.classList.remove('colab-df-spinner');\n",
              "          quickchartButtonEl.classList.add('colab-df-quickchart-complete');\n",
              "        }\n",
              "        (() => {\n",
              "          let quickchartButtonEl =\n",
              "            document.querySelector('#df-d7ebd033-e54c-4f34-afb5-1ac34dffb0d8 button');\n",
              "          quickchartButtonEl.style.display =\n",
              "            google.colab.kernel.accessAllowed ? 'block' : 'none';\n",
              "        })();\n",
              "      </script>\n",
              "    </div>\n",
              "\n",
              "    </div>\n",
              "  </div>\n"
            ],
            "application/vnd.google.colaboratory.intrinsic+json": {
              "type": "dataframe",
              "summary": "{\n  \"name\": \"display(df\",\n  \"rows\": 8,\n  \"fields\": [\n    {\n      \"column\": \"Spam Score\",\n      \"properties\": {\n        \"dtype\": \"number\",\n        \"std\": 1756.2936984548915,\n        \"min\": 0.0,\n        \"max\": 5000.0,\n        \"num_unique_values\": 7,\n        \"samples\": [\n          5000.0,\n          18.9256,\n          30.0\n        ],\n        \"semantic_type\": \"\",\n        \"description\": \"\"\n      }\n    }\n  ]\n}"
            }
          },
          "metadata": {}
        }
      ]
    },
    {
      "cell_type": "markdown",
      "metadata": {
        "id": "adab58bc"
      },
      "source": [
        "## Preprocess data\n",
        "\n",
        "### Subtask:\n",
        "Clean and prepare the data for the Naive Bayes model. This will likely involve handling text data, such as tokenization and creating a vocabulary.\n"
      ]
    },
    {
      "cell_type": "markdown",
      "metadata": {
        "id": "044c0427"
      },
      "source": [
        "**Reasoning**:\n",
        "Select relevant columns, handle missing values, convert the target variable, tokenize the text, create vocabulary, and transform text data into feature vectors in a single code block to prepare the data for the Naive Bayes model as instructed.\n",
        "\n"
      ]
    },
    {
      "cell_type": "code",
      "metadata": {
        "colab": {
          "base_uri": "https://localhost:8080/"
        },
        "id": "e77951ed",
        "outputId": "58e9edb2-3f61-4ae0-9fc4-db8bf5ef0df5"
      },
      "source": [
        "import re # Import the regular expression module.\n",
        "import pandas as pd # Import pandas to use isna()\n",
        "from sklearn.feature_extraction.text import CountVectorizer # Import CountVectorizer for text tokenization and vectorization.\n",
        "\n",
        "# 1. Select relevant columns\n",
        "# Keep 'Subject' and 'Spam Detection' for the new spam definition\n",
        "df_cleaned = df[['Subject', 'Spam Detection']].copy() # Select 'Subject' and 'Spam Detection' columns for cleaning and create a copy.\n",
        "\n",
        "# 2. Handle missing values - Fill NaN in 'Subject' with empty string\n",
        "df_cleaned['Subject'] = df_cleaned['Subject'].fillna('') # Replace any missing values (NaN) in the 'Subject' column with empty strings using the recommended method.\n",
        "\n",
        "# 3. Convert 'Spam Detection' to binary target variable\n",
        "# Define 'spam' as where 'Spam Detection' is NOT null, 'not spam' otherwise.\n",
        "df_cleaned['is_spam'] = df_cleaned['Spam Detection'].apply(lambda x: 0 if pd.isna(x) else 1) # Create a new binary column 'is_spam': 1 if 'Spam Detection' is not null, else 0.\n",
        "\n",
        "# 4. Tokenize the text data in 'Subject' and 5. Create a vocabulary and 6. Transform text data\n",
        "# Using CountVectorizer to handle tokenization, vocabulary creation, and feature vector generation\n",
        "# We will use a simple regex to keep only alphanumeric characters and spaces\n",
        "vectorizer = CountVectorizer(token_pattern=r'(?u)\\b\\w+\\b') # Initialize CountVectorizer to tokenize words using the specified pattern.\n",
        "X = vectorizer.fit_transform(df_cleaned['Subject']) # Fit the vectorizer on the 'Subject' column and transform the text data into a sparse matrix of token counts (feature matrix).\n",
        "y = df_cleaned['is_spam'] # Assign the binary 'is_spam' column as the target variable.\n",
        "\n",
        "print(\"Shape of feature matrix (X):\", X.shape) # Print the dimensions of the feature matrix (number of emails, vocabulary size).\n",
        "print(\"Shape of target vector (y):\", y.shape) # Print the dimensions of the target vector (number of emails).\n",
        "print(\"\\nFirst 5 feature vectors:\")\n",
        "print(X[:5].toarray()) # Display the first 5 rows of the feature matrix as a dense array for inspection.\n",
        "print(\"\\nFirst 5 target values:\", y[:5].tolist()) # Display the first 5 values of the target vector as a list.\n",
        "print(\"\\nVocabulary size:\", len(vectorizer.vocabulary_)) # Print the total number of unique words (tokens) found in the vocabulary."
      ],
      "execution_count": null,
      "outputs": [
        {
          "output_type": "stream",
          "name": "stdout",
          "text": [
            "Shape of feature matrix (X): (5000, 1097)\n",
            "Shape of target vector (y): (5000,)\n",
            "\n",
            "First 5 feature vectors:\n",
            "[[0 0 0 ... 0 0 0]\n",
            " [0 0 0 ... 0 0 0]\n",
            " [0 0 0 ... 0 0 0]\n",
            " [0 0 0 ... 0 0 0]\n",
            " [0 0 0 ... 0 0 0]]\n",
            "\n",
            "First 5 target values: [0, 0, 0, 1, 1]\n",
            "\n",
            "Vocabulary size: 1097\n"
          ]
        }
      ]
    },
    {
      "cell_type": "markdown",
      "metadata": {
        "id": "caa33c5b"
      },
      "source": [
        "## Implement naive bayes from scratch\n",
        "\n",
        "### Subtask:\n",
        "Build a Naive Bayes classifier manually using conditional probability and Bayes' theorem. Compute priors and likelihoods.\n"
      ]
    },
    {
      "cell_type": "markdown",
      "metadata": {
        "id": "0b42f766"
      },
      "source": [
        "**Reasoning**:\n",
        "Calculate the prior probabilities and word likelihoods for spam and not spam classes using the tokenized data and apply Laplace smoothing.\n",
        "\n"
      ]
    },
    {
      "cell_type": "code",
      "metadata": {
        "colab": {
          "base_uri": "https://localhost:8080/"
        },
        "id": "35377518",
        "outputId": "3af4b04b-b8b6-457e-b6fb-bc8f567e861d"
      },
      "source": [
        "import numpy as np\n",
        "\n",
        "# 1. Calculate Prior Probabilities\n",
        "total_emails = len(y)\n",
        "spam_count = y.sum()\n",
        "not_spam_count = total_emails - spam_count\n",
        "\n",
        "prior_spam = spam_count / total_emails\n",
        "prior_not_spam = not_spam_count / total_emails\n",
        "\n",
        "print(f\"Prior probability of spam: {prior_spam:.4f}\")\n",
        "print(f\"Prior probability of not spam: {prior_not_spam:.4f}\")\n",
        "\n",
        "# 2. Calculate Likelihoods with Laplace Smoothing\n",
        "# Convert y to a numpy array for correct indexing of sparse matrix X\n",
        "y_np = y.to_numpy()\n",
        "\n",
        "# Separate the feature matrix X based on the target variable y\n",
        "X_spam = X[y_np == 1]\n",
        "X_not_spam = X[y_np == 0]\n",
        "\n",
        "# Sum word counts for each class\n",
        "word_counts_spam = X_spam.sum(axis=0)\n",
        "word_counts_not_spam = X_not_spam.sum(axis=0)\n",
        "\n",
        "# Total number of words in each class\n",
        "total_words_spam = word_counts_spam.sum()\n",
        "total_words_not_spam = word_counts_not_spam.sum()\n",
        "\n",
        "# Vocabulary size (number of unique words)\n",
        "vocab_size = X.shape[1]\n",
        "\n",
        "# Apply Laplace smoothing (add-one smoothing)\n",
        "# Likelihood = (word_count_in_class + 1) / (total_words_in_class + vocab_size)\n",
        "likelihoods_spam = (word_counts_spam + 1) / (total_words_spam + vocab_size)\n",
        "likelihoods_not_spam = (word_counts_not_spam + 1) / (total_words_not_spam + vocab_size)\n",
        "\n",
        "# Store priors and likelihoods (as numpy arrays)\n",
        "priors = {'spam': prior_spam, 'not_spam': prior_not_spam}\n",
        "likelihoods = {'spam': np.array(likelihoods_spam)[0], 'not_spam': np.array(likelihoods_not_spam)[0]}\n",
        "\n",
        "\n",
        "print(\"\\nCalculated priors and likelihoods.\")\n",
        "print(\"Priors:\", priors)\n",
        "print(\"Shape of spam likelihoods:\", likelihoods['spam'].shape)\n",
        "print(\"Shape of not spam likelihoods:\", likelihoods['not_spam'].shape)"
      ],
      "execution_count": null,
      "outputs": [
        {
          "output_type": "stream",
          "name": "stdout",
          "text": [
            "Prior probability of spam: 0.4974\n",
            "Prior probability of not spam: 0.5026\n",
            "\n",
            "Calculated priors and likelihoods.\n",
            "Priors: {'spam': np.float64(0.4974), 'not_spam': np.float64(0.5026)}\n",
            "Shape of spam likelihoods: (1097,)\n",
            "Shape of not spam likelihoods: (1097,)\n"
          ]
        }
      ]
    },
    {
      "cell_type": "code",
      "metadata": {
        "colab": {
          "base_uri": "https://localhost:8080/"
        },
        "id": "km8ZcngPbnlA",
        "outputId": "79694fa1-ae9e-4ade-c577-5812986bf734"
      },
      "source": [
        "import numpy as np # Import the numpy library for numerical operations.\n",
        "\n",
        "# 1. Calculate Prior Probabilities\n",
        "total_emails = len(y) # Get the total number of emails.\n",
        "spam_count = y.sum() # Count the number of spam emails (where y is 1).\n",
        "not_spam_count = total_emails - spam_count # Count the number of not-spam emails.\n",
        "\n",
        "prior_spam = spam_count / total_emails # Calculate the prior probability of an email being spam.\n",
        "prior_not_spam = not_spam_count / total_emails # Calculate the prior probability of an email being not spam.\n",
        "\n",
        "print(f\"Prior probability of spam: {prior_spam:.4f}\") # Print the calculated prior probability of spam.\n",
        "print(f\"Prior probability of not spam: {prior_not_spam:.4f}\") # Print the calculated prior probability of not spam.\n",
        "\n",
        "# 2. Calculate Likelihoods with Laplace Smoothing\n",
        "# Convert y to a numpy array for correct indexing of sparse matrix X\n",
        "y_np = y.to_numpy() # Convert the pandas Series y to a numpy array for efficient indexing of the sparse matrix X.\n",
        "\n",
        "# Separate the feature matrix X based on the target variable y\n",
        "X_spam = X[y_np == 1] # Select rows from X where the corresponding y_np value is 1 (spam emails).\n",
        "X_not_spam = X[y_np == 0] # Select rows from X where the corresponding y_np value is 0 (not-spam emails).\n",
        "\n",
        "# Sum word counts for each class\n",
        "word_counts_spam = X_spam.sum(axis=0) # Sum the word counts across all spam emails for each word in the vocabulary.\n",
        "word_counts_not_spam = X_not_spam.sum(axis=0) # Sum the word counts across all not-spam emails for each word in the vocabulary.\n",
        "\n",
        "# Total number of words in each class\n",
        "total_words_spam = word_counts_spam.sum() # Calculate the total number of words in all spam emails.\n",
        "total_words_not_spam = word_counts_not_spam.sum() # Calculate the total number of words in all not-spam emails.\n",
        "\n",
        "# Vocabulary size (number of unique words)\n",
        "vocab_size = X.shape[1] # Get the total number of unique words from the shape of the feature matrix.\n",
        "\n",
        "# Apply Laplace smoothing (add-one smoothing)\n",
        "# Likelihood = (word_count_in_class + 1) / (total_words_in_class + vocab_size)\n",
        "likelihoods_spam = (word_counts_spam + 1) / (total_words_spam + vocab_size) # Calculate the smoothed likelihood of each word appearing in spam emails.\n",
        "likelihoods_not_spam = (word_counts_not_spam + 1) / (total_words_not_spam + vocab_size) # Calculate the smoothed likelihood of each word appearing in not-spam emails.\n",
        "\n",
        "# Store priors and likelihoods (as numpy arrays)\n",
        "priors = {'spam': prior_spam, 'not_spam': prior_not_spam} # Store the prior probabilities in a dictionary.\n",
        "likelihoods = {'spam': np.array(likelihoods_spam)[0], 'not_spam': np.array(likelihoods_not_spam)[0]} # Store the likelihood arrays in a dictionary, converting from sparse to dense.\n",
        "\n",
        "\n",
        "print(\"\\nCalculated priors and likelihoods.\") # Indicate that calculations are complete.\n",
        "print(\"Priors:\", priors) # Print the calculated prior probabilities.\n",
        "print(\"Shape of spam likelihoods:\", likelihoods['spam'].shape) # Print the shape of the spam likelihood array.\n",
        "print(\"Shape of not spam likelihoods:\", likelihoods['not_spam'].shape) # Print the shape of the not-spam likelihood array."
      ],
      "execution_count": null,
      "outputs": [
        {
          "output_type": "stream",
          "name": "stdout",
          "text": [
            "Prior probability of spam: 0.4974\n",
            "Prior probability of not spam: 0.5026\n",
            "\n",
            "Calculated priors and likelihoods.\n",
            "Priors: {'spam': np.float64(0.4974), 'not_spam': np.float64(0.5026)}\n",
            "Shape of spam likelihoods: (1097,)\n",
            "Shape of not spam likelihoods: (1097,)\n"
          ]
        }
      ]
    },
    {
      "cell_type": "markdown",
      "metadata": {
        "id": "82b476ca"
      },
      "source": [
        "## Classify new points (manual)\n",
        "\n",
        "### Subtask:\n",
        "Use the hand-coded classifier to predict whether new, unseen email examples are spam or not.\n"
      ]
    },
    {
      "cell_type": "markdown",
      "metadata": {
        "id": "fd29baae"
      },
      "source": [
        "**Reasoning**:\n",
        "Implement a function to classify new email subjects using the calculated priors and likelihoods, and test it with example subjects.\n",
        "\n"
      ]
    },
    {
      "cell_type": "code",
      "metadata": {
        "colab": {
          "base_uri": "https://localhost:8080/"
        },
        "id": "c57609fd",
        "outputId": "deb4f62b-9c10-44d4-dd03-d35437a9feef"
      },
      "source": [
        "# Get the vectorizer used in preprocessing\n",
        "# If the kernel reset, re-fit the vectorizer to get the vocabulary mapping\n",
        "# We fit it on the original cleaned subjects to ensure the vocabulary is the same\n",
        "try:\n",
        "    vectorizer # Check if vectorizer exists from previous steps.\n",
        "except NameError:\n",
        "    from sklearn.feature_extraction.text import CountVectorizer # Import CountVectorizer if it doesn't exist.\n",
        "    # Using a simple regex to keep only alphanumeric characters and spaces\n",
        "    vectorizer = CountVectorizer(token_pattern=r'(?u)\\b\\w+\\b') # Initialize CountVectorizer with the same pattern.\n",
        "    vectorizer.fit(df_cleaned['Subject']) # Fit the vectorizer on the original data to rebuild the vocabulary.\n",
        "    print(\"Vectorizer refitted.\")\n",
        "\n",
        "def classify_email(email_subject, vectorizer, priors, likelihoods):\n",
        "    \"\"\"Classifies an email subject as spam or not spam using Naive Bayes.\"\"\"\n",
        "    # Preprocess the input text using the same vectorizer\n",
        "    email_vector = vectorizer.transform([email_subject]) # Transform the new email subject string into a feature vector using the fitted vectorizer.\n",
        "\n",
        "    # Get the indices of the words present in the email subject\n",
        "    word_indices = email_vector.indices # Get the indices of the non-zero elements in the feature vector, which correspond to the word indices in the vocabulary.\n",
        "\n",
        "    # Calculate log posterior probability for each class\n",
        "    # P(Class | Document) = P(Document | Class) * P(Class) / P(Document)\n",
        "    # log(P(Class | Document)) = log(P(Document | Class)) + log(P(Class)) - log(P(Document))\n",
        "    # P(Document | Class) = Product over words i: P(word_i | Class)\n",
        "    # log(P(Document | Class)) = Sum over words i: log(P(word_i | Class))\n",
        "    # We only need to compare log(P(Class | Document)) for spam and not_spam, so P(Document) term cancels out.\n",
        "    log_posterior_spam = np.log(priors['spam']) # Start with the log of the prior probability for spam.\n",
        "    log_posterior_not_spam = np.log(priors['not_spam']) # Start with the log of the prior probability for not spam.\n",
        "\n",
        "    # Sum the log likelihoods of the words present in the email\n",
        "    # We need to handle the case where a word in the new email is not in the vocabulary.\n",
        "    # However, with Laplace smoothing, the likelihood of any word (even unseen) is non-zero,\n",
        "    # so we don't need special handling for unseen words themselves, but we need to make\n",
        "    # sure we are accessing the likelihoods array correctly based on word indices.\n",
        "    # The `word_indices` from the transformed vector correspond to the indices in the vocabulary.\n",
        "    if word_indices.size > 0: # Check if the email subject contains any words from the vocabulary.\n",
        "        log_likelihoods_spam = np.log(likelihoods['spam'][word_indices]) # Get the log likelihoods for the words present in the email for the spam class.\n",
        "        log_likelihoods_not_spam = np.log(likelihoods['not_spam'][word_indices]) # Get the log likelihoods for the words present in the email for the not-spam class.\n",
        "\n",
        "        log_posterior_spam += log_likelihoods_spam.sum() # Add the sum of the log likelihoods for spam to the log prior.\n",
        "        log_posterior_not_spam += log_likelihoods_not_spam.sum() # Add the sum of the log likelihoods for not spam to the log prior.\n",
        "\n",
        "\n",
        "    # Compare the log posterior probabilities\n",
        "    if log_posterior_spam > log_posterior_not_spam: # Compare the final log posterior probabilities.\n",
        "        return 'spam' # Return 'spam' if the log posterior for spam is higher.\n",
        "    else:\n",
        "        return 'not_spam' # Otherwise, return 'not_spam'.\n",
        "\n",
        "# Test the function with example email subjects\n",
        "example_subjects = [\n",
        "    \"Claim your free prize now!\", # Likely spam\n",
        "    \"Meeting reminder for tomorrow\", # Likely not spam\n",
        "    \"Urgent: Your account has been compromised\", # Likely spam\n",
        "    \"Project update and next steps\", # Likely not spam\n",
        "    \"Win a free iPhone - click here!\" # Likely spam\n",
        "]\n",
        "\n",
        "print(\"Classifying example emails:\") # Print a header for the classification results.\n",
        "for subject in example_subjects: # Iterate through the example subjects.\n",
        "    prediction = classify_email(subject, vectorizer, priors, likelihoods) # Classify the current subject using the manual function.\n",
        "    print(f\"Subject: '{subject}' -> Predicted Class: {prediction}\") # Print the subject and its predicted class."
      ],
      "execution_count": null,
      "outputs": [
        {
          "output_type": "stream",
          "name": "stdout",
          "text": [
            "Classifying example emails:\n",
            "Subject: 'Claim your free prize now!' -> Predicted Class: spam\n",
            "Subject: 'Meeting reminder for tomorrow' -> Predicted Class: not_spam\n",
            "Subject: 'Urgent: Your account has been compromised' -> Predicted Class: not_spam\n",
            "Subject: 'Project update and next steps' -> Predicted Class: not_spam\n",
            "Subject: 'Win a free iPhone - click here!' -> Predicted Class: spam\n"
          ]
        }
      ]
    },
    {
      "cell_type": "markdown",
      "metadata": {
        "id": "16b17dfb"
      },
      "source": [
        "## Implement naive bayes with scikit-learn\n",
        "\n",
        "### Subtask:\n",
        "Use the ` MultinomialNB` or `BernoulliNB` classifier from scikit-learn for comparison.\n"
      ]
    },
    {
      "cell_type": "markdown",
      "metadata": {
        "id": "81ff7562"
      },
      "source": [
        "**Reasoning**:\n",
        "Import the MultinomialNB class from scikit-learn, instantiate it, and train it on the feature matrix X and target vector y.\n",
        "\n"
      ]
    },
    {
      "cell_type": "code",
      "metadata": {
        "colab": {
          "base_uri": "https://localhost:8080/"
        },
        "id": "c4e2ae55",
        "outputId": "257b97aa-1f14-4de9-8702-5c5623fedaf7"
      },
      "source": [
        "from sklearn.naive_bayes import MultinomialNB # Import the MultinomialNB classifier from scikit-learn.\n",
        "\n",
        "# Instantiate a MultinomialNB classifier object\n",
        "mnb = MultinomialNB() # Create an instance of the MultinomialNB classifier.\n",
        "\n",
        "# Train the classifier using the feature matrix X and the target vector y\n",
        "mnb.fit(X, y) # Train the classifier using the feature matrix X and the target vector y.\n",
        "\n",
        "print(\"Multinomial Naive Bayes classifier trained successfully.\") # Print a message indicating successful training."
      ],
      "execution_count": null,
      "outputs": [
        {
          "output_type": "stream",
          "name": "stdout",
          "text": [
            "Multinomial Naive Bayes classifier trained successfully.\n"
          ]
        }
      ]
    },
    {
      "cell_type": "markdown",
      "metadata": {
        "id": "7d09611a"
      },
      "source": [
        "## Classify new points (scikit-learn)\n",
        "\n",
        "### Subtask:\n",
        "Use the scikit-learn classifier to predict whether new, unseen email examples are spam or not.\n"
      ]
    },
    {
      "cell_type": "markdown",
      "metadata": {
        "id": "4c9eca2f"
      },
      "source": [
        "**Reasoning**:\n",
        "Define the new email subjects, transform them using the fitted vectorizer, and use the trained scikit-learn classifier to predict their class labels.\n",
        "\n"
      ]
    },
    {
      "cell_type": "code",
      "metadata": {
        "colab": {
          "base_uri": "https://localhost:8080/"
        },
        "id": "831a50fc",
        "outputId": "ded97737-80c5-40e0-f716-0241c4b14f64"
      },
      "source": [
        "# 1. Define a list of new email subject strings to be classified.\n",
        "new_emails = [\n",
        "    \"Claim your free gift card now!\", # Likely spam\n",
        "    \"Meeting agenda for Monday\", # Likely not spam\n",
        "    \"Urgent action required for your account\", # Likely spam\n",
        "    \"Quarterly financial report\", # Likely not spam\n",
        "    \"Limited time offer - Don't miss out!\", # Likely spam\n",
        "    \"Your order has shipped\", # Likely not spam\n",
        "    \"Invoice attached\", # Likely not spam\n",
        "    \"Congratulations - You've won a prize!\" # Likely spam\n",
        "]\n",
        "\n",
        "# 2. Use the vectorizer (fitted during the preprocessing step) to transform the list of new email subjects into a feature matrix.\n",
        "# Ensure the vectorizer is the one fitted on the training data\n",
        "# If the kernel reset, re-fit the vectorizer\n",
        "try:\n",
        "    vectorizer # Check if the vectorizer is available.\n",
        "except NameError:\n",
        "    from sklearn.feature_extraction.text import CountVectorizer # Import if not available.\n",
        "    # Using a simple regex to keep only alphanumeric characters and spaces\n",
        "    vectorizer = CountVectorizer(token_pattern=r'(?u)\\b\\w+\\b') # Initialize.\n",
        "    # Re-fit the vectorizer on the original data\n",
        "    vectorizer.fit(df_cleaned['Subject']) # Fit on the training data again.\n",
        "    print(\"Vectorizer refitted for scikit-learn classification.\")\n",
        "\n",
        "\n",
        "new_emails_X = vectorizer.transform(new_emails) # Transform the new email subjects into feature vectors using the fitted vectorizer.\n",
        "\n",
        "# 3. Use the trained scikit-learn MultinomialNB classifier (mnb) to predict the class labels (spam or not spam) for the new feature matrix.\n",
        "# Ensure the mnb classifier is the one trained in the previous step\n",
        "# If the kernel reset, re-train the mnb\n",
        "try:\n",
        "    mnb # Check if the mnb classifier is available.\n",
        "except NameError:\n",
        "    from sklearn.naive_bayes import MultinomialNB # Import if not available.\n",
        "    mnb = MultinomialNB() # Initialize.\n",
        "    # Re-train the mnb on the original data\n",
        "    mnb.fit(X, y) # Train the classifier on the training data again.\n",
        "    print(\"MultinomialNB refitted for scikit-learn classification.\")\n",
        "\n",
        "\n",
        "predictions = mnb.predict(new_emails_X) # Predict the class labels for the new email feature vectors.\n",
        "\n",
        "# 4. Print the original email subjects and their corresponding predicted class labels.\n",
        "print(\"Predictions for new emails:\") # Print a header for the predictions.\n",
        "for email, prediction in zip(new_emails, predictions): # Iterate through the new emails and their predictions.\n",
        "    # Convert numerical prediction back to 'spam' or 'not_spam'\n",
        "    predicted_label = 'spam' if prediction == 1 else 'not_spam' # Convert the numerical prediction (0 or 1) to a human-readable label.\n",
        "    print(f\"Subject: '{email}' -> Predicted Class: {predicted_label}\") # Print the email subject and its predicted class label."
      ],
      "execution_count": null,
      "outputs": [
        {
          "output_type": "stream",
          "name": "stdout",
          "text": [
            "Predictions for new emails:\n",
            "Subject: 'Claim your free gift card now!' -> Predicted Class: spam\n",
            "Subject: 'Meeting agenda for Monday' -> Predicted Class: not_spam\n",
            "Subject: 'Urgent action required for your account' -> Predicted Class: not_spam\n",
            "Subject: 'Quarterly financial report' -> Predicted Class: not_spam\n",
            "Subject: 'Limited time offer - Don't miss out!' -> Predicted Class: spam\n",
            "Subject: 'Your order has shipped' -> Predicted Class: not_spam\n",
            "Subject: 'Invoice attached' -> Predicted Class: not_spam\n",
            "Subject: 'Congratulations - You've won a prize!' -> Predicted Class: spam\n"
          ]
        }
      ]
    },
    {
      "cell_type": "markdown",
      "metadata": {
        "id": "b7f5a124"
      },
      "source": [
        "## Compare classifiers\n",
        "\n",
        "### Subtask:\n",
        "Compare the performance and characteristics of the hand-coded classifier and the scikit-learn classifier. Discuss the differences and similarities.\n"
      ]
    },
    {
      "cell_type": "markdown",
      "metadata": {
        "id": "161af7e2"
      },
      "source": [
        "**Reasoning**:\n",
        "Compare the predictions of the hand-coded and scikit-learn classifiers for the example email subjects from the manual classification step and discuss the potential reasons for any differences.\n",
        "\n"
      ]
    },
    {
      "cell_type": "code",
      "metadata": {
        "colab": {
          "base_uri": "https://localhost:8080/"
        },
        "id": "75a3af24",
        "outputId": "9ebf1be5-c92b-4631-eb83-47102afb12a2"
      },
      "source": [
        "# Example subjects used in the manual classification step\n",
        "example_subjects_manual = [\n",
        "    \"Claim your free prize now!\", # Likely spam\n",
        "    \"Meeting reminder for tomorrow\", # Likely not spam\n",
        "    \"Urgent: Your account has been compromised\", # Likely spam\n",
        "    \"Project update and next steps\", # Likely not spam\n",
        "    \"Win a free iPhone - click here!\" # Likely spam\n",
        "]\n",
        "\n",
        "print(\"Comparing predictions for example emails from manual classification:\") # Header for the comparison.\n",
        "\n",
        "for subject in example_subjects_manual: # Iterate through the example subjects.\n",
        "    # Get prediction from hand-coded classifier\n",
        "    manual_prediction = classify_email(subject, vectorizer, priors, likelihoods) # Get the prediction from the hand-coded function.\n",
        "\n",
        "    # Get prediction from scikit-learn classifier\n",
        "    # Need to transform the single subject into a feature vector\n",
        "    sklearn_subject_X = vectorizer.transform([subject]) # Transform the current subject into a feature vector for scikit-learn.\n",
        "    sklearn_prediction_numeric = mnb.predict(sklearn_subject_X)[0] # Get the numerical prediction from the scikit-learn classifier.\n",
        "    sklearn_prediction = 'spam' if sklearn_prediction_numeric == 1 else 'not_spam' # Convert the numerical prediction to a label.\n",
        "\n",
        "    print(f\"Subject: '{subject}'\") # Print the subject.\n",
        "    print(f\"  Hand-coded prediction: {manual_prediction}\") # Print the manual classifier's prediction.\n",
        "    print(f\"  Scikit-learn prediction: {sklearn_prediction}\") # Print the scikit-learn classifier's prediction.\n",
        "    if manual_prediction != sklearn_prediction: # Check if the predictions differ.\n",
        "        print(\"  Discrepancy noted!\") # Indicate if there is a discrepancy.\n",
        "\n",
        "print(\"\\nDiscussion on potential reasons for differences:\") # Header for discussing differences.\n",
        "print(\"- **Floating-point precision:** Manual calculations might be susceptible to minor floating-point differences compared to optimized scikit-learn implementations.\") # Explain the role of floating-point precision.\n",
        "print(\"- **Laplace smoothing implementation:** While both use Laplace smoothing, subtle differences in how it's applied or handled internally could lead to variations.\") # Discuss potential differences in smoothing implementation.\n",
        "print(\"- **Handling of zero probabilities:** Although Laplace smoothing addresses zero probabilities for words in the vocabulary, the exact handling of probabilities near zero or underflow prevention might differ.\") # Explain handling of near-zero probabilities.\n",
        "print(\"- **Tokenizer differences:** Although we used the same `CountVectorizer`, very subtle differences in tokenization or vocabulary mapping if not perfectly aligned could occur.\") # Mention potential subtle tokenizer differences.\n",
        "print(\"- **Logarithmic calculations:** Both likely use logarithms to avoid underflow, but the specific implementation details might vary slightly.\") # Discuss potential variations in log calculations.\n",
        "print(\"\\nSummary of similarities and differences:\") # Header for summarizing similarities and differences.\n",
        "print(\"- **Similarities:** Both implementations are based on the Naive Bayes principle, calculating prior probabilities and word likelihoods. Both use Laplace smoothing to handle unseen words or words with zero counts.\") # List similarities.\n",
        "print(\"- **Differences:** The scikit-learn implementation is a highly optimized and tested library function, while the hand-coded version is a direct implementation of the formula. Scikit-learn handles many internal details (like efficient sparse matrix operations and numerical stability) automatically, whereas these need explicit handling in the manual version. The prediction results for some edge cases or specific examples might differ due to the reasons mentioned above.\") # List differences."
      ],
      "execution_count": null,
      "outputs": [
        {
          "output_type": "stream",
          "name": "stdout",
          "text": [
            "Comparing predictions for example emails from manual classification:\n",
            "Subject: 'Claim your free prize now!'\n",
            "  Hand-coded prediction: spam\n",
            "  Scikit-learn prediction: spam\n",
            "Subject: 'Meeting reminder for tomorrow'\n",
            "  Hand-coded prediction: not_spam\n",
            "  Scikit-learn prediction: not_spam\n",
            "Subject: 'Urgent: Your account has been compromised'\n",
            "  Hand-coded prediction: not_spam\n",
            "  Scikit-learn prediction: not_spam\n",
            "Subject: 'Project update and next steps'\n",
            "  Hand-coded prediction: not_spam\n",
            "  Scikit-learn prediction: not_spam\n",
            "Subject: 'Win a free iPhone - click here!'\n",
            "  Hand-coded prediction: spam\n",
            "  Scikit-learn prediction: spam\n",
            "\n",
            "Discussion on potential reasons for differences:\n",
            "- **Floating-point precision:** Manual calculations might be susceptible to minor floating-point differences compared to optimized scikit-learn implementations.\n",
            "- **Laplace smoothing implementation:** While both use Laplace smoothing, subtle differences in how it's applied or handled internally could lead to variations.\n",
            "- **Handling of zero probabilities:** Although Laplace smoothing addresses zero probabilities for words in the vocabulary, the exact handling of probabilities near zero or underflow prevention might differ.\n",
            "- **Tokenizer differences:** Although we used the same `CountVectorizer`, very subtle differences in tokenization or vocabulary mapping if not perfectly aligned could occur.\n",
            "- **Logarithmic calculations:** Both likely use logarithms to avoid underflow, but the specific implementation details might vary slightly.\n",
            "\n",
            "Summary of similarities and differences:\n",
            "- **Similarities:** Both implementations are based on the Naive Bayes principle, calculating prior probabilities and word likelihoods. Both use Laplace smoothing to handle unseen words or words with zero counts.\n",
            "- **Differences:** The scikit-learn implementation is a highly optimized and tested library function, while the hand-coded version is a direct implementation of the formula. Scikit-learn handles many internal details (like efficient sparse matrix operations and numerical stability) automatically, whereas these need explicit handling in the manual version. The prediction results for some edge cases or specific examples might differ due to the reasons mentioned above.\n"
          ]
        }
      ]
    },
    {
      "cell_type": "markdown",
      "metadata": {
        "id": "0ddba0d2"
      },
      "source": [
        "## Discuss independence assumption\n",
        "\n",
        "### Subtask:\n",
        "Explain the independence assumption made in Naive Bayes in detail and its implications for this dataset.\n"
      ]
    },
    {
      "cell_type": "markdown",
      "metadata": {
        "id": "0c46eb13"
      },
      "source": [
        "**Reasoning**:\n",
        "Explain the independence assumption of Naive Bayes in the context of text classification, discuss its implications, how violating it affects performance, and its trade-offs, as per the subtask instructions.\n",
        "\n"
      ]
    },
    {
      "cell_type": "code",
      "metadata": {
        "colab": {
          "base_uri": "https://localhost:8080/"
        },
        "id": "36e82b01",
        "outputId": "3dd6dc5a-5929-46d9-95a4-9ee5deb2240f"
      },
      "source": [
        "# Explain the independence assumption in Naive Bayes for text classification\n",
        "print(\"1. The Independence Assumption in Naive Bayes for Text Classification:\") # Header for the explanation.\n",
        "print(\"   The core assumption of the Naive Bayes classifier in text classification is that,\") # Explain the main assumption.\n",
        "print(\"   given the class (e.g., 'spam' or 'not_spam'), the presence of a particular word\") # Elaborate on the context of text.\n",
        "print(\"   in a document (email subject) is independent of the presence of any other word.\") # State the independence condition.\n",
        "print(\"   Mathematically, this means P(word1, word2 | class) = P(word1 | class) * P(word2 | class).\") # Provide the mathematical formulation.\n",
        "print(\"   In the context of this email dataset, it assumes that if we know an email subject\") # Relate to the email dataset.\n",
        "print(\"   is 'spam', the probability of seeing the word 'free' is independent of the\") # Provide a concrete example.\n",
        "print(\"   probability of seeing the word 'prize'.\")\n",
        "\n",
        "# Discuss why the assumption is \"naive\" and how it might not hold true\n",
        "print(\"\\n2. Why this Assumption is 'Naive' and its Real-World Limitations:\") # Header for limitations discussion.\n",
        "print(\"   This assumption is considered 'naive' because it is rarely true in real-world\") # Explain why it's \"naive\".\n",
        "print(\"   text data. Words in natural language are highly interdependent.\") # Discuss real-world word dependencies.\n",
        "print(\"   Phrases ('free prize', 'urgent action'), context, and related words ('account', 'compromised')\") # Provide examples of dependencies.\n",
        "print(\"   often appear together and their presence is not independent.\")\n",
        "print(\"   For example, in the phrase 'urgent action required', the word 'action' is highly likely\") # Illustrate with an example phrase.\n",
        "print(\"   to appear after 'urgent'. The Naive Bayes model, however, treats P('action' | class, 'urgent')\") # Explain how Naive Bayes simplifies this.\n",
        "print(\"   as simply P('action' | class), ignoring the influence of the preceding word.\")\n",
        "\n",
        "# Analyze how violating the assumption affects performance on this dataset\n",
        "print(\"\\n3. Impact of Violating the Assumption on this Email Dataset:\") # Header for impact on the dataset.\n",
        "print(\"   Violating the independence assumption can negatively impact the performance of\") # State the potential impact.\n",
        "print(\"   the Naive Bayes classifier on this dataset. The model might misinterpret the\") # Explain the mechanism of misinterpretation.\n",
        "print(\"   significance of words when their meaning or predictive power is heavily tied\") # Discuss dependence on other words.\n",
        "print(\"   to other words around them.\")\n",
        "print(\"   For example, consider email subjects:\") # Provide example subjects.\n",
        "print(\"   - 'Meeting reminder for tomorrow'\") # Example 1: Not spam.\n",
        "print(\"   - 'Urgent action required for your account'\") # Example 2: Likely spam (phishing attempt).\n",
        "print(\"   The words 'urgent' and 'account' individually might appear in both spam and not-spam\") # Discuss individual word occurrence.\n",
        "print(\"   emails. However, the *combination* of 'urgent', 'action', and 'account' is a strong\") # Highlight the significance of combinations.\n",
        "print(\"   indicator of spam (specifically, a phishing attempt). The Naive Bayes model, due to\") # Explain why Naive Bayes might miss this.\n",
        "print(\"   its independence assumption, might not fully capture this combined predictive power.\")\n",
        "print(\"   Another example: 'Free gift card' vs 'Free shipping'. 'Free' is common in spam, but the following word changes context.\") # Another example with 'Free'.\n",
        "print(\"   The model treats P('gift' | spam, 'free') the same as P('gift' | spam) and P('shipping' | spam, 'free')\") # Explain how the assumption applies here.\n",
        "print(\"   the same as P('shipping' | spam), potentially diluting the strong spam signal of 'free gift card'.\")\n",
        "print(\"   This can lead to misclassifications, where sophisticated spam emails using specific phrases\") # Discuss consequences of misclassification.\n",
        "print(\"   might be missed, or legitimate emails with words commonly found in spam (but used in a different context)\")\n",
        "print(\"   might be incorrectly flagged as spam.\")\n",
        "\n",
        "# Briefly discuss the trade-offs\n",
        "print(\"\\n4. Trade-offs of the Naive Bayes Independence Assumption:\") # Header for trade-offs.\n",
        "print(\"   The independence assumption, despite being 'naive', offers significant trade-offs:\") # State that there are trade-offs.\n",
        "print(\"   - **Simplicity:** The model is very simple to understand and implement, relying on basic probability calculations.\") # Discuss simplicity.\n",
        "print(\"   - **Efficiency:** Training and prediction are computationally very fast, even with large vocabularies.\") # Discuss efficiency.\n",
        "print(\"     It requires calculating and storing only the prior probabilities and individual word likelihoods.\") # Explain why it's efficient.\n",
        "print(\"     More complex models that consider word dependencies (like N-gram models or sequence models)\") # Contrast with complex models.\n",
        "print(\"     would require calculating and storing probabilities for word combinations, leading to a much larger parameter space.\")\n",
        "print(\"   - **Good Baseline Performance:** Despite the strong assumption, Naive Bayes often performs surprisingly well\") # Discuss performance as a baseline.\n",
        "print(\"     as a baseline classifier, especially for text classification problems with a reasonably large amount of training data.\")\n",
        "print(\"   The trade-off is that by ignoring word relationships, it might sacrifice some accuracy compared to models\") # Summarize the trade-off.\n",
        "print(\"   that can capture these dependencies, particularly when those dependencies are strong indicators of the class.\")"
      ],
      "execution_count": null,
      "outputs": [
        {
          "output_type": "stream",
          "name": "stdout",
          "text": [
            "1. The Independence Assumption in Naive Bayes for Text Classification:\n",
            "   The core assumption of the Naive Bayes classifier in text classification is that,\n",
            "   given the class (e.g., 'spam' or 'not_spam'), the presence of a particular word\n",
            "   in a document (email subject) is independent of the presence of any other word.\n",
            "   Mathematically, this means P(word1, word2 | class) = P(word1 | class) * P(word2 | class).\n",
            "   In the context of this email dataset, it assumes that if we know an email subject\n",
            "   is 'spam', the probability of seeing the word 'free' is independent of the\n",
            "   probability of seeing the word 'prize'.\n",
            "\n",
            "2. Why this Assumption is 'Naive' and its Real-World Limitations:\n",
            "   This assumption is considered 'naive' because it is rarely true in real-world\n",
            "   text data. Words in natural language are highly interdependent.\n",
            "   Phrases ('free prize', 'urgent action'), context, and related words ('account', 'compromised')\n",
            "   often appear together and their presence is not independent.\n",
            "   For example, in the phrase 'urgent action required', the word 'action' is highly likely\n",
            "   to appear after 'urgent'. The Naive Bayes model, however, treats P('action' | class, 'urgent')\n",
            "   as simply P('action' | class), ignoring the influence of the preceding word.\n",
            "\n",
            "3. Impact of Violating the Assumption on this Email Dataset:\n",
            "   Violating the independence assumption can negatively impact the performance of\n",
            "   the Naive Bayes classifier on this dataset. The model might misinterpret the\n",
            "   significance of words when their meaning or predictive power is heavily tied\n",
            "   to other words around them.\n",
            "   For example, consider email subjects:\n",
            "   - 'Meeting reminder for tomorrow'\n",
            "   - 'Urgent action required for your account'\n",
            "   The words 'urgent' and 'account' individually might appear in both spam and not-spam\n",
            "   emails. However, the *combination* of 'urgent', 'action', and 'account' is a strong\n",
            "   indicator of spam (specifically, a phishing attempt). The Naive Bayes model, due to\n",
            "   its independence assumption, might not fully capture this combined predictive power.\n",
            "   Another example: 'Free gift card' vs 'Free shipping'. 'Free' is common in spam, but the following word changes context.\n",
            "   The model treats P('gift' | spam, 'free') the same as P('gift' | spam) and P('shipping' | spam, 'free')\n",
            "   the same as P('shipping' | spam), potentially diluting the strong spam signal of 'free gift card'.\n",
            "   This can lead to misclassifications, where sophisticated spam emails using specific phrases\n",
            "   might be missed, or legitimate emails with words commonly found in spam (but used in a different context)\n",
            "   might be incorrectly flagged as spam.\n",
            "\n",
            "4. Trade-offs of the Naive Bayes Independence Assumption:\n",
            "   The independence assumption, despite being 'naive', offers significant trade-offs:\n",
            "   - **Simplicity:** The model is very simple to understand and implement, relying on basic probability calculations.\n",
            "   - **Efficiency:** Training and prediction are computationally very fast, even with large vocabularies.\n",
            "     It requires calculating and storing only the prior probabilities and individual word likelihoods.\n",
            "     More complex models that consider word dependencies (like N-gram models or sequence models)\n",
            "     would require calculating and storing probabilities for word combinations, leading to a much larger parameter space.\n",
            "   - **Good Baseline Performance:** Despite the strong assumption, Naive Bayes often performs surprisingly well\n",
            "     as a baseline classifier, especially for text classification problems with a reasonably large amount of training data.\n",
            "   The trade-off is that by ignoring word relationships, it might sacrifice some accuracy compared to models\n",
            "   that can capture these dependencies, particularly when those dependencies are strong indicators of the class.\n"
          ]
        }
      ]
    },
    {
      "cell_type": "markdown",
      "metadata": {
        "id": "dcaa4713"
      },
      "source": [
        "## Visualize results\n",
        "\n",
        "### Subtask:\n",
        "Create appropriate visualizations to illustrate the data, the classification process, or the results of the classifiers.\n"
      ]
    },
    {
      "cell_type": "markdown",
      "metadata": {
        "id": "6fd9ef7d"
      },
      "source": [
        "**Reasoning**:\n",
        "Create visualizations for data distribution and word frequencies as requested in the instructions.\n",
        "\n"
      ]
    },
    {
      "cell_type": "code",
      "metadata": {
        "colab": {
          "base_uri": "https://localhost:8080/",
          "height": 1000
        },
        "id": "d0b544c8",
        "outputId": "38380290-97bb-45c3-8c5b-800a8f08af3a"
      },
      "source": [
        "import matplotlib.pyplot as plt # Import matplotlib for plotting.\n",
        "import seaborn as sns # Import seaborn for enhanced visualizations.\n",
        "import numpy as np # Import numpy for numerical operations.\n",
        "\n",
        "# Set plot style\n",
        "sns.set_style(\"whitegrid\") # Set the style of the plots.\n",
        "\n",
        "# 1. Bar chart showing the distribution of 'Status' in the original df DataFrame.\n",
        "plt.figure(figsize=(10, 6)) # Create a new figure with a specified size.\n",
        "sns.countplot(data=df, y='Status', order=df['Status'].value_counts().index, palette='viridis') # Create a bar plot of the counts of each unique value in the 'Status' column. Order bars by frequency.\n",
        "plt.title('Distribution of Email Status') # Set the title of the plot.\n",
        "plt.xlabel('Count') # Set the label for the x-axis.\n",
        "plt.ylabel('Status') # Set the label for the y-axis.\n",
        "plt.tight_layout() # Adjust layout to prevent labels overlapping.\n",
        "plt.show() # Display the plot.\n",
        "\n",
        "# 2. Bar chart showing the distribution of the binary 'is_spam' target variable in the df_cleaned DataFrame.\n",
        "plt.figure(figsize=(7, 5)) # Create a new figure.\n",
        "sns.countplot(data=df_cleaned, x='is_spam', palette='viridis') # Create a bar plot of the counts for the binary 'is_spam' column.\n",
        "plt.title('Distribution of Spam vs. Not Spam Emails') # Set the title.\n",
        "plt.xlabel('Is Spam (0: Not Spam, 1: Spam)') # Set the x-axis label with explanation.\n",
        "plt.ylabel('Count') # Set the y-axis label.\n",
        "plt.xticks([0, 1], ['Not Spam', 'Spam']) # Set custom tick labels for the x-axis.\n",
        "plt.tight_layout() # Adjust layout.\n",
        "plt.show() # Display the plot.\n",
        "\n",
        "# 3. Visualize the most frequent words in spam vs. not-spam emails\n",
        "# Get vocabulary from the fitted vectorizer\n",
        "vocab = vectorizer.get_feature_names_out() # Get the list of words in the vocabulary from the fitted vectorizer.\n",
        "\n",
        "# Check if word_counts_spam and word_counts_not_spam exist, if not, recalculate\n",
        "try:\n",
        "    word_counts_spam # Check if the variables exist.\n",
        "    word_counts_not_spam\n",
        "except NameError:\n",
        "    print(\"Recalculating word counts for visualization...\") # Indicate recalculation if variables are missing.\n",
        "    # Assuming X and y are available from previous steps\n",
        "    y_np = y.to_numpy() # Convert y to numpy array.\n",
        "    X_spam = X[y_np == 1] # Separate spam features.\n",
        "    X_not_spam = X[y_np == 0] # Separate not-spam features.\n",
        "    word_counts_spam = X_spam.sum(axis=0) # Sum word counts for spam.\n",
        "    word_counts_not_spam = X_not_spam.sum(axis=0) # Sum word counts for not-spam.\n",
        "    print(\"Word counts recalculated.\") # Confirmation of recalculation.\n",
        "\n",
        "\n",
        "# Convert sparse matrix sums to dense arrays for easier handling\n",
        "word_counts_spam_dense = np.array(word_counts_spam)[0] # Convert the sparse matrix sum for spam word counts to a dense numpy array.\n",
        "word_counts_not_spam_dense = np.array(word_counts_not_spam)[0] # Convert the sparse matrix sum for not-spam word counts to a dense numpy array.\n",
        "\n",
        "# Get top N words\n",
        "N = 20 # Define the number of top words to visualize.\n",
        "top_spam_indices = np.argsort(word_counts_spam_dense)[::-1][:N] # Get the indices of the top N most frequent words in spam (descending order).\n",
        "top_not_spam_indices = np.argsort(word_counts_not_spam_dense)[::-1][:N] # Get the indices of the top N most frequent words in not spam (descending order).\n",
        "\n",
        "top_spam_words = [vocab[i] for i in top_spam_indices] # Get the words corresponding to the top spam indices.\n",
        "top_spam_counts = word_counts_spam_dense[top_spam_indices] # Get the counts corresponding to the top spam indices.\n",
        "\n",
        "top_not_spam_words = [vocab[i] for i in top_not_spam_indices] # Get the words corresponding to the top not-spam indices.\n",
        "top_not_spam_counts = word_counts_not_spam_dense[top_not_spam_indices] # Get the counts corresponding to the top not-spam indices.\n",
        "\n",
        "# Create bar charts for top words\n",
        "plt.figure(figsize=(12, 7)) # Create a new figure for the two subplots.\n",
        "\n",
        "plt.subplot(1, 2, 1) # Create the first subplot (1 row, 2 columns, 1st plot).\n",
        "sns.barplot(x=top_spam_counts, y=top_spam_words, palette='Reds_d') # Create a horizontal bar plot for top spam words.\n",
        "plt.title(f'Top {N} Most Frequent Words in Spam Emails') # Set the title.\n",
        "plt.xlabel('Frequency') # Set the x-axis label.\n",
        "plt.ylabel('Word') # Set the y-axis label.\n",
        "\n",
        "plt.subplot(1, 2, 2) # Create the second subplot (1 row, 2 columns, 2nd plot).\n",
        "sns.barplot(x=top_not_spam_counts, y=top_not_spam_words, palette='Blues_d') # Create a horizontal bar plot for top not-spam words.\n",
        "plt.title(f'Top {N} Most Frequent Words in Not Spam Emails') # Set the title.\n",
        "plt.xlabel('Frequency') # Set the x-axis label.\n",
        "plt.ylabel('Word') # Set the y-axis label.\n",
        "\n",
        "plt.tight_layout() # Adjust layout for subplots.\n",
        "plt.show() # Display the plots.\n",
        "\n",
        "print(\"Visualizations created and displayed.\") # Confirmation message."
      ],
      "execution_count": null,
      "outputs": [
        {
          "output_type": "stream",
          "name": "stderr",
          "text": [
            "/tmp/ipython-input-2391663805.py:10: FutureWarning: \n",
            "\n",
            "Passing `palette` without assigning `hue` is deprecated and will be removed in v0.14.0. Assign the `y` variable to `hue` and set `legend=False` for the same effect.\n",
            "\n",
            "  sns.countplot(data=df, y='Status', order=df['Status'].value_counts().index, palette='viridis') # Create a bar plot of the counts of each unique value in the 'Status' column. Order bars by frequency.\n"
          ]
        },
        {
          "output_type": "display_data",
          "data": {
            "text/plain": [
              "<Figure size 1000x600 with 1 Axes>"
            ],
            "image/png": "[encoded data removed]"
          },
          "metadata": {}
        },
        {
          "output_type": "stream",
          "name": "stderr",
          "text": [
            "/tmp/ipython-input-2391663805.py:19: FutureWarning: \n",
            "\n",
            "Passing `palette` without assigning `hue` is deprecated and will be removed in v0.14.0. Assign the `x` variable to `hue` and set `legend=False` for the same effect.\n",
            "\n",
            "  sns.countplot(data=df_cleaned, x='is_spam', palette='viridis') # Create a bar plot of the counts for the binary 'is_spam' column.\n"
          ]
        },
        {
          "output_type": "display_data",
          "data": {
            "text/plain": [
              "<Figure size 700x500 with 1 Axes>"
            ],
            "image/png": "[encoded data removed]"
          },
          "metadata": {}
        },
        {
          "output_type": "stream",
          "name": "stderr",
          "text": [
            "/tmp/ipython-input-2391663805.py:65: FutureWarning: \n",
            "\n",
            "Passing `palette` without assigning `hue` is deprecated and will be removed in v0.14.0. Assign the `y` variable to `hue` and set `legend=False` for the same effect.\n",
            "\n",
            "  sns.barplot(x=top_spam_counts, y=top_spam_words, palette='Reds_d') # Create a horizontal bar plot for top spam words.\n",
            "/tmp/ipython-input-2391663805.py:71: FutureWarning: \n",
            "\n",
            "Passing `palette` without assigning `hue` is deprecated and will be removed in v0.14.0. Assign the `y` variable to `hue` and set `legend=False` for the same effect.\n",
            "\n",
            "  sns.barplot(x=top_not_spam_counts, y=top_not_spam_words, palette='Blues_d') # Create a horizontal bar plot for top not-spam words.\n"
          ]
        },
        {
          "output_type": "display_data",
          "data": {
            "text/plain": [
              "<Figure size 1200x700 with 2 Axes>"
            ],
            "image/png": "[encoded data removed]"
          },
          "metadata": {}
        },
        {
          "output_type": "stream",
          "name": "stdout",
          "text": [
            "Visualizations created and displayed.\n"
          ]
        }
      ]
    },
    {
      "cell_type": "code",
      "metadata": {
        "colab": {
          "base_uri": "https://localhost:8080/",
          "height": 496
        },
        "id": "8a4fbcc5",
        "outputId": "471401de-08c4-44b2-b597-8115485b822a"
      },
      "source": [
        "%%markdown\n",
        "# Naive Bayes Classifier Implementation and Comparison\n",
        "\n",
        "## Rock Lambros :COMP 3009 Project\n",
        "\n",
        "This notebook serves as a comprehensive exploration into email spam classification using the Naive Bayes algorithm. The primary objective is to implement a Naive Bayes classifier from scratch, providing a deep understanding of its inner workings based on probabilistic principles. For comparison and validation, we will also utilize the highly optimized `MultinomialNB` classifier available in the scikit-learn library.\n",
        "\n",
        "Throughout this notebook, we will systematically address the key aspects of building and evaluating these classifiers. This includes:\n",
        "\n",
        "1.  **Loading and Exploring the Dataset:** Understanding the structure and content of the provided email dataset.\n",
        "2.  **Data Preprocessing:** Cleaning and transforming the raw text data into a format suitable for the Naive Bayes model, involving techniques like tokenization and vectorization.\n",
        "3.  **Manual Naive Bayes Implementation:** Building the classifier logic from the ground up, calculating the necessary prior probabilities and conditional likelihoods based on the training data.\n",
        "4.  **Classifying New Emails (Manual):** Applying our hand-coded classifier to predict whether unseen emails are spam or not.\n",
        "5.  **Scikit-learn Naive Bayes Implementation:** Utilizing the `MultinomialNB` class from scikit-learn for a standard, efficient implementation.\n",
        "6.  **Classifying New Emails (Scikit-learn):** Using the scikit-learn classifier to predict spam status for new emails.\n",
        "7.  **Classifier Comparison:** Analyzing and contrasting the performance and characteristics of the hand-coded and scikit-learn implementations.\n",
        "8.  **Discussion of the Independence Assumption:** Delving into the core assumption of Naive Bayes – the conditional independence of features – and evaluating its implications for text classification with this dataset.\n",
        "9.  **Visualizing Data and Results:** Creating visualizations to illustrate key data distributions and classifier outcomes.\n",
        "\n",
        "This structured approach aims to provide a detailed, step-by-step narrative suitable for a Master's level assignment, demonstrating a thorough understanding of the Naive Bayes algorithm, its practical application in spam detection, and a critical analysis of its underlying principles.\n",
        "\n",
        "%%"
      ],
      "execution_count": null,
      "outputs": [
        {
          "output_type": "display_data",
          "data": {
            "text/plain": [
              "<IPython.core.display.Markdown object>"
            ],
            "text/markdown": "# Naive Bayes Classifier Implementation and Comparison\n\n## Rock Lambros :COMP 3009 Project\n\nThis notebook serves as a comprehensive exploration into email spam classification using the Naive Bayes algorithm. The primary objective is to implement a Naive Bayes classifier from scratch, providing a deep understanding of its inner workings based on probabilistic principles. For comparison and validation, we will also utilize the highly optimized `MultinomialNB` classifier available in the scikit-learn library.\n\nThroughout this notebook, we will systematically address the key aspects of building and evaluating these classifiers. This includes:\n\n1.  **Loading and Exploring the Dataset:** Understanding the structure and content of the provided email dataset.\n2.  **Data Preprocessing:** Cleaning and transforming the raw text data into a format suitable for the Naive Bayes model, involving techniques like tokenization and vectorization.\n3.  **Manual Naive Bayes Implementation:** Building the classifier logic from the ground up, calculating the necessary prior probabilities and conditional likelihoods based on the training data.\n4.  **Classifying New Emails (Manual):** Applying our hand-coded classifier to predict whether unseen emails are spam or not.\n5.  **Scikit-learn Naive Bayes Implementation:** Utilizing the `MultinomialNB` class from scikit-learn for a standard, efficient implementation.\n6.  **Classifying New Emails (Scikit-learn):** Using the scikit-learn classifier to predict spam status for new emails.\n7.  **Classifier Comparison:** Analyzing and contrasting the performance and characteristics of the hand-coded and scikit-learn implementations.\n8.  **Discussion of the Independence Assumption:** Delving into the core assumption of Naive Bayes – the conditional independence of features – and evaluating its implications for text classification with this dataset.\n9.  **Visualizing Data and Results:** Creating visualizations to illustrate key data distributions and classifier outcomes.\n\nThis structured approach aims to provide a detailed, step-by-step narrative suitable for a Master's level assignment, demonstrating a thorough understanding of the Naive Bayes algorithm, its practical application in spam detection, and a critical analysis of its underlying principles.\n\n%%\n"
          },
          "metadata": {}
        }
      ]
    },
    {
      "cell_type": "code",
      "metadata": {
        "colab": {
          "base_uri": "https://localhost:8080/",
          "height": 709
        },
        "id": "00140c7b",
        "outputId": "0a7c8e5d-0191-4b13-ec48-cbfcb96368a6"
      },
      "source": [
        "%%markdown\n",
        "## Load and explore data\n",
        "\n",
        "Before we delve into analyzing our email dataset, it's fundamental to first load and gain an initial understanding of its structure and content. This process is akin to getting acquainted with a new research subject – we need to know what information is available and how it's organized.\n",
        "\n",
        "Our dataset is conveniently stored in a Comma Separated Values (CSV) file located at `/content/synthetic_email_dataset.csv`. To effectively work with this data in Python, we'll leverage the `pandas` library, a cornerstone tool in data manipulation and analysis. Pandas provides a data structure called a DataFrame, which is conceptually similar to a spreadsheet or a relational database table. It allows us to store data in a structured format of rows and columns, making it highly efficient for operations like filtering, sorting, and aggregation.\n",
        "\n",
        "Here's a breakdown of the initial steps we take to load and explore the data:\n",
        "\n",
        "1.  **Loading the Dataset:** The primary function for reading CSV files in pandas is `pd.read_csv()`. We provide the exact path to our file as an argument to this function. Pandas then parses the CSV, interpreting each row as a record and each column as a feature or attribute. The result is a DataFrame object, which we assign to a variable, conventionally named `df` (short for DataFrame). This `df` now holds the entirety of our email data, ready for inspection and processing.\n",
        "\n",
        "2.  **Initial Data Inspection (`df.head()`):** To get a preliminary visual sense of the dataset, we use the `.head()` method of the DataFrame. By default, this method displays the first five rows of the DataFrame. This is incredibly useful for quickly verifying that the data has been loaded correctly, observing the column headers, and getting a glimpse of the data types and values within the initial records. It's a rapid way to confirm that the data structure matches our expectations and that the data doesn't appear corrupted at first glance.\n",
        "\n",
        "3.  **Summarizing DataFrame Information (`df.info()`):** For a more comprehensive, programmatic overview of the DataFrame's structure, we employ the `.info()` method. This method provides a wealth of crucial information without displaying the actual data values. Key outputs include:\n",
        "    *   The total number of entries (rows) and the number of columns.\n",
        "    *   A list of all column names.\n",
        "    *   For each column, it shows the count of non-null entries. This is a critical piece of information as it immediately highlights which columns have missing values. A count less than the total number of rows indicates the presence of missing data, which will likely require attention during the data preprocessing phase.\n",
        "    *   The data type assigned to each column (e.g., `object` for strings, `int64` for integers, `float64` for floating-point numbers). Understanding data types is essential for selecting appropriate analytical methods later on.\n",
        "    *   Memory usage of the DataFrame.\n",
        "\n",
        "4.  **Generating Descriptive Statistics (`df.describe()`):** The `.describe()` method offers a statistical summary of the numerical columns within the DataFrame. For columns containing numerical data (like 'Spam Score' in this dataset), it calculates standard descriptive measures such as count, mean, standard deviation, minimum, maximum, and the quartile values (25th, 50th - median, and 75th percentiles). While this is most informative for numerical features, applying it to a dataset primarily containing text or categorical data might yield limited output. Nevertheless, it's a standard practice for quickly understanding the distribution and range of any numerical attributes present.\n",
        "\n",
        "By systematically executing these initial loading and exploration steps, we establish a firm understanding of our dataset's characteristics, including its dimensions, column types, and the extent of missing information. This foundational knowledge is indispensable for guiding subsequent data cleaning, transformation, and analysis processes in our project."
      ],
      "execution_count": null,
      "outputs": [
        {
          "output_type": "display_data",
          "data": {
            "text/plain": [
              "<IPython.core.display.Markdown object>"
            ],
            "text/markdown": "## Load and explore data\n\nBefore we delve into analyzing our email dataset, it's fundamental to first load and gain an initial understanding of its structure and content. This process is akin to getting acquainted with a new research subject – we need to know what information is available and how it's organized.\n\nOur dataset is conveniently stored in a Comma Separated Values (CSV) file located at `/content/synthetic_email_dataset.csv`. To effectively work with this data in Python, we'll leverage the `pandas` library, a cornerstone tool in data manipulation and analysis. Pandas provides a data structure called a DataFrame, which is conceptually similar to a spreadsheet or a relational database table. It allows us to store data in a structured format of rows and columns, making it highly efficient for operations like filtering, sorting, and aggregation.\n\nHere's a breakdown of the initial steps we take to load and explore the data:\n\n1.  **Loading the Dataset:** The primary function for reading CSV files in pandas is `pd.read_csv()`. We provide the exact path to our file as an argument to this function. Pandas then parses the CSV, interpreting each row as a record and each column as a feature or attribute. The result is a DataFrame object, which we assign to a variable, conventionally named `df` (short for DataFrame). This `df` now holds the entirety of our email data, ready for inspection and processing.\n\n2.  **Initial Data Inspection (`df.head()`):** To get a preliminary visual sense of the dataset, we use the `.head()` method of the DataFrame. By default, this method displays the first five rows of the DataFrame. This is incredibly useful for quickly verifying that the data has been loaded correctly, observing the column headers, and getting a glimpse of the data types and values within the initial records. It's a rapid way to confirm that the data structure matches our expectations and that the data doesn't appear corrupted at first glance.\n\n3.  **Summarizing DataFrame Information (`df.info()`):** For a more comprehensive, programmatic overview of the DataFrame's structure, we employ the `.info()` method. This method provides a wealth of crucial information without displaying the actual data values. Key outputs include:\n    *   The total number of entries (rows) and the number of columns.\n    *   A list of all column names.\n    *   For each column, it shows the count of non-null entries. This is a critical piece of information as it immediately highlights which columns have missing values. A count less than the total number of rows indicates the presence of missing data, which will likely require attention during the data preprocessing phase.\n    *   The data type assigned to each column (e.g., `object` for strings, `int64` for integers, `float64` for floating-point numbers). Understanding data types is essential for selecting appropriate analytical methods later on.\n    *   Memory usage of the DataFrame.\n\n4.  **Generating Descriptive Statistics (`df.describe()`):** The `.describe()` method offers a statistical summary of the numerical columns within the DataFrame. For columns containing numerical data (like 'Spam Score' in this dataset), it calculates standard descriptive measures such as count, mean, standard deviation, minimum, maximum, and the quartile values (25th, 50th - median, and 75th percentiles). While this is most informative for numerical features, applying it to a dataset primarily containing text or categorical data might yield limited output. Nevertheless, it's a standard practice for quickly understanding the distribution and range of any numerical attributes present.\n\nBy systematically executing these initial loading and exploration steps, we establish a firm understanding of our dataset's characteristics, including its dimensions, column types, and the extent of missing information. This foundational knowledge is indispensable for guiding subsequent data cleaning, transformation, and analysis processes in our project.\n"
          },
          "metadata": {}
        }
      ]
    },
    {
      "cell_type": "code",
      "metadata": {
        "colab": {
          "base_uri": "https://localhost:8080/",
          "height": 703
        },
        "id": "0b624233",
        "outputId": "5ca0a425-50c0-489b-9f42-cc92c69f2d7e"
      },
      "source": [
        "%%markdown\n",
        "## Data Preprocessing\n",
        "\n",
        "Data preprocessing is a crucial step in any machine learning workflow. Raw data, especially text data, is rarely in a format that can be directly fed into a model like Naive Bayes. This section details the steps taken to clean and transform our email dataset, making it ready for classification. Think of this as preparing ingredients before cooking – we need to select the right ones, clean them, and get them into a usable form.\n",
        "\n",
        "Here's a breakdown of the preprocessing steps:\n",
        "\n",
        "1.  **Selecting Relevant Columns:** Our original dataset contains various columns, but not all are equally relevant for classifying an email based on its content. For this task, the most informative features are the email's subject line and its classification status. We select the `'Subject'` column, which contains the text data we will analyze, and the `'Spam Detection'` column, which provides information about whether an email was detected as spam by some system – this will be our basis for defining our target variable. We create a new DataFrame `df_cleaned` containing only these two columns to focus our preprocessing efforts. Using `.copy()` ensures we are working on a separate copy and not modifying the original DataFrame directly.\n",
        "\n",
        "2.  **Handling Missing Values in the Subject:** Text processing techniques, like tokenization, generally cannot handle missing values (represented as `NaN`). If the `'Subject'` column has missing entries, attempting to process them as strings will lead to errors. A common and effective way to handle missing text data, especially when the absence of text itself might not be meaningful or when the volume of missing data is small, is to replace `NaN` values with empty strings (`''`). This allows the text vectorizer to process these entries without error, treating them as subjects with no words, which is a valid input.\n",
        "\n",
        "3.  **Converting to a Binary Target Variable (`is_spam`):** The goal of our classifier is binary: to determine if an email is spam or not spam. Our dataset has a `'Spam Detection'` column which is not a simple binary flag, and it contains missing values. Based on our understanding of the dataset (as discussed in the data loading summary), a non-null value in the 'Spam Detection' column indicates that the email triggered some spam detection rule or threshold, suggesting it is likely spam. Conversely, a null value indicates no such detection occurred, suggesting it is not spam. We convert this into a clear binary target variable, `is_spam`. We create a new column `'is_spam'` where the value is `1` if `'Spam Detection'` is not null (meaning spam) and `0` if it is null (meaning not spam). This binary column `y` will serve as the ground truth for training and evaluating our classifier.\n",
        "\n",
        "4.  **Tokenization and Vocabulary Creation:** Machine learning models work with numbers, not raw text. We need to convert the email subjects into a numerical format. The first step in this conversion is **tokenization**. Tokenization is the process of breaking down a piece of text (like an email subject) into smaller units called **tokens**, which are typically individual words or punctuation marks. We use scikit-learn's `CountVectorizer` for this. As it tokenizes the entire collection of email subjects, `CountVectorizer` simultaneously builds a **vocabulary** – a sorted list of all the unique tokens found across all the documents.\n",
        "\n",
        "5.  **Transforming Text into a Feature Matrix (Vectorization):** Once the vocabulary is established, `CountVectorizer` performs **vectorization**. It transforms each email subject into a numerical vector. This vector has a dimension equal to the size of the vocabulary. Each element in the vector corresponds to a word in the vocabulary, and its value represents the **count** of how many times that specific word appears in the email subject. For example, if the word \"free\" is the 100th word in the vocabulary, the 100th element of an email's feature vector will be the number of times \"free\" appears in that email's subject. The collection of these vectors for all emails forms our **feature matrix**, denoted as `X`. Since most email subjects contain only a small subset of the entire vocabulary, this matrix is **sparse** (mostly filled with zeros), and `CountVectorizer` efficiently handles this using sparse matrix representations. We use the `token_pattern=r'(?u)\\b\\w+\\b'` to ensure that only sequences of alphanumeric characters are treated as tokens, ignoring punctuation and other symbols, which is a common practice in text classification.\n",
        "\n",
        "The output of this preprocessing step is our feature matrix `X` (containing the word counts for each email subject) and our target vector `y` (indicating whether each email is spam or not spam). These are now in the numerical format required to train our Naive Bayes classifiers.\n",
        "%%"
      ],
      "execution_count": null,
      "outputs": [
        {
          "output_type": "display_data",
          "data": {
            "text/plain": [
              "<IPython.core.display.Markdown object>"
            ],
            "text/markdown": "## Data Preprocessing\n\nData preprocessing is a crucial step in any machine learning workflow. Raw data, especially text data, is rarely in a format that can be directly fed into a model like Naive Bayes. This section details the steps taken to clean and transform our email dataset, making it ready for classification. Think of this as preparing ingredients before cooking – we need to select the right ones, clean them, and get them into a usable form.\n\nHere's a breakdown of the preprocessing steps:\n\n1.  **Selecting Relevant Columns:** Our original dataset contains various columns, but not all are equally relevant for classifying an email based on its content. For this task, the most informative features are the email's subject line and its classification status. We select the `'Subject'` column, which contains the text data we will analyze, and the `'Spam Detection'` column, which provides information about whether an email was detected as spam by some system – this will be our basis for defining our target variable. We create a new DataFrame `df_cleaned` containing only these two columns to focus our preprocessing efforts. Using `.copy()` ensures we are working on a separate copy and not modifying the original DataFrame directly.\n\n2.  **Handling Missing Values in the Subject:** Text processing techniques, like tokenization, generally cannot handle missing values (represented as `NaN`). If the `'Subject'` column has missing entries, attempting to process them as strings will lead to errors. A common and effective way to handle missing text data, especially when the absence of text itself might not be meaningful or when the volume of missing data is small, is to replace `NaN` values with empty strings (`''`). This allows the text vectorizer to process these entries without error, treating them as subjects with no words, which is a valid input.\n\n3.  **Converting to a Binary Target Variable (`is_spam`):** The goal of our classifier is binary: to determine if an email is spam or not spam. Our dataset has a `'Spam Detection'` column which is not a simple binary flag, and it contains missing values. Based on our understanding of the dataset (as discussed in the data loading summary), a non-null value in the 'Spam Detection' column indicates that the email triggered some spam detection rule or threshold, suggesting it is likely spam. Conversely, a null value indicates no such detection occurred, suggesting it is not spam. We convert this into a clear binary target variable, `is_spam`. We create a new column `'is_spam'` where the value is `1` if `'Spam Detection'` is not null (meaning spam) and `0` if it is null (meaning not spam). This binary column `y` will serve as the ground truth for training and evaluating our classifier.\n\n4.  **Tokenization and Vocabulary Creation:** Machine learning models work with numbers, not raw text. We need to convert the email subjects into a numerical format. The first step in this conversion is **tokenization**. Tokenization is the process of breaking down a piece of text (like an email subject) into smaller units called **tokens**, which are typically individual words or punctuation marks. We use scikit-learn's `CountVectorizer` for this. As it tokenizes the entire collection of email subjects, `CountVectorizer` simultaneously builds a **vocabulary** – a sorted list of all the unique tokens found across all the documents.\n\n5.  **Transforming Text into a Feature Matrix (Vectorization):** Once the vocabulary is established, `CountVectorizer` performs **vectorization**. It transforms each email subject into a numerical vector. This vector has a dimension equal to the size of the vocabulary. Each element in the vector corresponds to a word in the vocabulary, and its value represents the **count** of how many times that specific word appears in the email subject. For example, if the word \"free\" is the 100th word in the vocabulary, the 100th element of an email's feature vector will be the number of times \"free\" appears in that email's subject. The collection of these vectors for all emails forms our **feature matrix**, denoted as `X`. Since most email subjects contain only a small subset of the entire vocabulary, this matrix is **sparse** (mostly filled with zeros), and `CountVectorizer` efficiently handles this using sparse matrix representations. We use the `token_pattern=r'(?u)\\b\\w+\\b'` to ensure that only sequences of alphanumeric characters are treated as tokens, ignoring punctuation and other symbols, which is a common practice in text classification.\n\nThe output of this preprocessing step is our feature matrix `X` (containing the word counts for each email subject) and our target vector `y` (indicating whether each email is spam or not spam). These are now in the numerical format required to train our Naive Bayes classifiers.\n%%\n"
          },
          "metadata": {}
        }
      ]
    },
    {
      "cell_type": "code",
      "metadata": {
        "colab": {
          "base_uri": "https://localhost:8080/",
          "height": 1000
        },
        "id": "e3286c97",
        "outputId": "cb3e7153-f431-445c-bb7e-54061f4592dd"
      },
      "source": [
        "%%markdown\n",
        "## Implement Naive Bayes from Scratch\n",
        "\n",
        "Now that our data is preprocessed and vectorized, we can build the Naive Bayes classifier manually. This step is crucial for understanding the fundamental probabilistic principles behind the algorithm. At its core, Naive Bayes for text classification relies on calculating two main sets of probabilities from the training data:\n",
        "\n",
        "1.  **Prior Probabilities:** These tell us the overall likelihood of an email belonging to a particular class (spam or not spam) *before* we even look at its content.\n",
        "2.  **Likelihoods (Conditional Probabilities):** These tell us the likelihood of seeing a particular word *given* that the email belongs to a specific class (spam or not spam).\n",
        "\n",
        "Let's break down how we calculate these:\n",
        "\n",
        "### 1. Calculating Prior Probabilities\n",
        "\n",
        "The prior probability of a class is simply the proportion of emails belonging to that class in our training dataset.\n",
        "\n",
        "*   **Prior Probability of Spam (P(Spam)):** This is calculated as the total number of spam emails divided by the total number of all emails in the training set.\n",
        "\n",
        "$$P(\\text{Spam}) = \\frac{\\text{Number of Spam Emails}}{\\text{Total Number of Emails}}$$\n",
        "\n",
        "*   **Prior Probability of Not Spam (P(Not Spam)):** Similarly, this is the total number of not-spam emails divided by the total number of all emails.\n",
        "\n",
        "$$P(\\text{Not Spam}) = \\frac{\\text{Number of Not Spam Emails}}{\\text{Total Number of Emails}}$$\n",
        "\n",
        "These prior probabilities give us our initial belief about whether an email is spam or not, before considering the words in its subject line. If our dataset has significantly more spam emails than not-spam emails, the prior probability of spam will be higher, reflecting this imbalance.\n",
        "\n",
        "### 2. Calculating Word Likelihoods (Conditional Probabilities)\n",
        "\n",
        "The likelihood of a word, say \"free\", given that an email is spam is the probability of the word \"free\" appearing in an email, *assuming* we already know that email is spam. We calculate this based on the counts of words within each class.\n",
        "\n",
        "*   **Likelihood of a Word Given Spam (P(Word | Spam)):** This is calculated by counting how many times a specific word appears in *all* spam emails and dividing by the total number of words in *all* spam emails.\n",
        "\n",
        "$$P(\\text{Word} | \\text{Spam}) = \\frac{\\text{Count of Word in Spam Emails}}{\\text{Total Number of Words in Spam Emails}}$$\n",
        "\n",
        "*   **Likelihood of a Word Given Not Spam (P(Word | Not Spam)):** Similarly, this is the count of the word in *all* not-spam emails divided by the total number of words in *all* not-spam emails.\n",
        "\n",
        "$$P(\\text{Word} | \\text{Not Spam}) = \\frac{\\text{Count of Word in Not Spam Emails}}{\\text{Total Number of Words in Not Spam Emails}}$$\n",
        "\n",
        "We perform this calculation for *every* unique word in our vocabulary (the list of all unique words found in the email subjects).\n",
        "\n",
        "### The Need for Smoothing: Laplace Smoothing\n",
        "\n",
        "A critical issue arises when calculating word likelihoods: what if a word appears in a new email during classification, but it was *never* seen in any of the training emails belonging to a specific class? For example, if the word \"crypto\" never appeared in any of our training 'not spam' emails, its count in not-spam emails would be zero. The likelihood P(\"crypto\" | Not Spam) would then be 0 / (Total words in not spam) = 0.\n",
        "\n",
        "If we later encounter a new email that contains the word \"crypto\", and we are calculating the probability of this email being 'not spam', the product of all word likelihoods (including the zero likelihood for \"crypto\") will become zero. This means the entire probability of the email being 'not spam' will be zero, regardless of how many other 'not spam' indicative words it contains. This is undesirable, as a single unseen word shouldn't completely rule out a class.\n",
        "\n",
        "To prevent this zero probability problem and to give a small, non-zero probability to words not seen in a specific class during training, we use a technique called **Laplace Smoothing**, also known as **Add-One Smoothing**.\n",
        "\n",
        "With Laplace smoothing, we add a small constant (typically 1, hence \"add-one\") to every word count, including those that were zero. We also add the vocabulary size to the denominator (the total number of words in the class).\n",
        "\n",
        "*   **Smoothed Likelihood of a Word Given Spam:**\n",
        "\n",
        "$$P(\\text{Word} | \\text{Spam}) = \\frac{\\text{Count of Word in Spam Emails} + 1}{\\text{Total Number of Words in Spam Emails} + \\text{Vocabulary Size}}$$\n",
        "\n",
        "*   **Smoothed Likelihood of a Word Given Not Spam:**\n",
        "\n",
        "$$P(\\text{Word} | \\text{Not Spam}) = \\frac{\\text{Count of Word in Not Spam Emails} + 1}{\\text{Total Number of Words in Not Spam Emails} + \\text{Vocabulary Size}}$$\n",
        "\n",
        "By adding 1 to the numerator, we ensure that even words with a raw count of zero get a count of 1, resulting in a non-zero likelihood. By adding the vocabulary size to the denominator, we normalize the probabilities correctly after adding to the numerator. Laplace smoothing effectively \"smooths\" the probability distribution, preventing extreme values (zeros) and making the model slightly more robust to unseen words.\n",
        "\n",
        "These calculated prior probabilities and smoothed word likelihoods are the essential components we need. They represent the learned patterns from our training data and will be used in the next step, applying Bayes' theorem, to classify new emails.\n",
        "%%"
      ],
      "execution_count": null,
      "outputs": [
        {
          "output_type": "display_data",
          "data": {
            "text/plain": [
              "<IPython.core.display.Markdown object>"
            ],
            "text/markdown": "## Implement Naive Bayes from Scratch\n\nNow that our data is preprocessed and vectorized, we can build the Naive Bayes classifier manually. This step is crucial for understanding the fundamental probabilistic principles behind the algorithm. At its core, Naive Bayes for text classification relies on calculating two main sets of probabilities from the training data:\n\n1.  **Prior Probabilities:** These tell us the overall likelihood of an email belonging to a particular class (spam or not spam) *before* we even look at its content.\n2.  **Likelihoods (Conditional Probabilities):** These tell us the likelihood of seeing a particular word *given* that the email belongs to a specific class (spam or not spam).\n\nLet's break down how we calculate these:\n\n### 1. Calculating Prior Probabilities\n\nThe prior probability of a class is simply the proportion of emails belonging to that class in our training dataset.\n\n*   **Prior Probability of Spam (P(Spam)):** This is calculated as the total number of spam emails divided by the total number of all emails in the training set.\n\n$$P(\\text{Spam}) = \\frac{\\text{Number of Spam Emails}}{\\text{Total Number of Emails}}$$\n\n*   **Prior Probability of Not Spam (P(Not Spam)):** Similarly, this is the total number of not-spam emails divided by the total number of all emails.\n\n$$P(\\text{Not Spam}) = \\frac{\\text{Number of Not Spam Emails}}{\\text{Total Number of Emails}}$$\n\nThese prior probabilities give us our initial belief about whether an email is spam or not, before considering the words in its subject line. If our dataset has significantly more spam emails than not-spam emails, the prior probability of spam will be higher, reflecting this imbalance.\n\n### 2. Calculating Word Likelihoods (Conditional Probabilities)\n\nThe likelihood of a word, say \"free\", given that an email is spam is the probability of the word \"free\" appearing in an email, *assuming* we already know that email is spam. We calculate this based on the counts of words within each class.\n\n*   **Likelihood of a Word Given Spam (P(Word | Spam)):** This is calculated by counting how many times a specific word appears in *all* spam emails and dividing by the total number of words in *all* spam emails.\n    \n$$P(\\text{Word} | \\text{Spam}) = \\frac{\\text{Count of Word in Spam Emails}}{\\text{Total Number of Words in Spam Emails}}$$\n\n*   **Likelihood of a Word Given Not Spam (P(Word | Not Spam)):** Similarly, this is the count of the word in *all* not-spam emails divided by the total number of words in *all* not-spam emails.\n\n$$P(\\text{Word} | \\text{Not Spam}) = \\frac{\\text{Count of Word in Not Spam Emails}}{\\text{Total Number of Words in Not Spam Emails}}$$\n\nWe perform this calculation for *every* unique word in our vocabulary (the list of all unique words found in the email subjects).\n\n### The Need for Smoothing: Laplace Smoothing\n\nA critical issue arises when calculating word likelihoods: what if a word appears in a new email during classification, but it was *never* seen in any of the training emails belonging to a specific class? For example, if the word \"crypto\" never appeared in any of our training 'not spam' emails, its count in not-spam emails would be zero. The likelihood P(\"crypto\" | Not Spam) would then be 0 / (Total words in not spam) = 0.\n\nIf we later encounter a new email that contains the word \"crypto\", and we are calculating the probability of this email being 'not spam', the product of all word likelihoods (including the zero likelihood for \"crypto\") will become zero. This means the entire probability of the email being 'not spam' will be zero, regardless of how many other 'not spam' indicative words it contains. This is undesirable, as a single unseen word shouldn't completely rule out a class.\n\nTo prevent this zero probability problem and to give a small, non-zero probability to words not seen in a specific class during training, we use a technique called **Laplace Smoothing**, also known as **Add-One Smoothing**.\n\nWith Laplace smoothing, we add a small constant (typically 1, hence \"add-one\") to every word count, including those that were zero. We also add the vocabulary size to the denominator (the total number of words in the class).\n\n*   **Smoothed Likelihood of a Word Given Spam:**\n\n$$P(\\text{Word} | \\text{Spam}) = \\frac{\\text{Count of Word in Spam Emails} + 1}{\\text{Total Number of Words in Spam Emails} + \\text{Vocabulary Size}}$$\n\n*   **Smoothed Likelihood of a Word Given Not Spam:**\n    \n$$P(\\text{Word} | \\text{Not Spam}) = \\frac{\\text{Count of Word in Not Spam Emails} + 1}{\\text{Total Number of Words in Not Spam Emails} + \\text{Vocabulary Size}}$$\n\nBy adding 1 to the numerator, we ensure that even words with a raw count of zero get a count of 1, resulting in a non-zero likelihood. By adding the vocabulary size to the denominator, we normalize the probabilities correctly after adding to the numerator. Laplace smoothing effectively \"smooths\" the probability distribution, preventing extreme values (zeros) and making the model slightly more robust to unseen words.\n\nThese calculated prior probabilities and smoothed word likelihoods are the essential components we need. They represent the learned patterns from our training data and will be used in the next step, applying Bayes' theorem, to classify new emails.\n%%\n"
          },
          "metadata": {}
        }
      ]
    },
    {
      "cell_type": "code",
      "metadata": {
        "colab": {
          "base_uri": "https://localhost:8080/",
          "height": 1000
        },
        "id": "67c69b88",
        "outputId": "303f58dd-794e-483d-ea04-8939f74c99c2"
      },
      "source": [
        "%%markdown\n",
        "## Classifying New Emails (Manual Implementation)\n",
        "\n",
        "Having calculated the prior probabilities for our classes (spam and not spam) and the smoothed likelihoods for each word in our vocabulary given each class, we now have the necessary components to classify *new*, unseen email subjects using our hand-coded Naive Bayes model. This process involves applying Bayes' theorem to determine which class (spam or not spam) is more probable given the words present in the new email.\n",
        "\n",
        "The core idea behind classifying a new email subject, let's call it 'Document', into a class 'C' (which can be 'Spam' or 'Not Spam') using Naive Bayes is to calculate the posterior probability P(C | Document). Bayes' theorem states:\n",
        "\n",
        "$$P(C | \\text{Document}) = \\frac{P(\\text{Document} | C) * P(C)}{P(\\text{Document})}$$\n",
        "\n",
        "Here:\n",
        "*   $P(C | \\text{Document})$ is the **posterior probability**: the probability that the email belongs to class C, given its content (the words in the subject). This is what we want to find.\n",
        "*   $P(\\text{Document} | C)$ is the **likelihood**: the probability of seeing this specific email subject, given that it belongs to class C.\n",
        "*   $P(C)$ is the **prior probability**: the overall probability of class C, which we calculated in the previous step.\n",
        "*   $P(\\text{Document})$ is the **evidence**: the probability of seeing this specific email subject, regardless of class.\n",
        "\n",
        "For classification, we don't actually need to calculate $P(\\text{Document})$. We only need to compare $P(\\text{Spam} | \\text{Document})$ and $P(\\text{Not Spam} | \\text{Document})$. Since $P(\\text{Document})$ is the same for both, we can simply compare the numerators: $P(\\text{Document} | \\text{Spam}) * P(\\text{Spam})$ and $P(\\text{Document} | \\text{Not Spam}) * P(\\text{Not Spam})$. The class with the higher value is our predicted class.\n",
        "\n",
        "Now, how do we calculate $P(\\text{Document} | C)$? This is where the \"Naive\" assumption comes in. Naive Bayes assumes that the words in the document are conditionally independent given the class. So, the probability of the document given the class is the product of the probabilities of each word in the document given the class:\n",
        "\n",
        "$$P(\\text{Document} | C) = \\prod_{i=1}^{n} P(\\text{word}_i | C)$$\n",
        "\n",
        "where $\\text{word}_i$ is the i-th word in the document, and $n$ is the number of words.\n",
        "\n",
        "Putting it together, for each class C, we calculate a value proportional to the posterior probability:\n",
        "\n",
        "$$\\text{Score}(C) = P(C) * \\prod_{i=1}^{n} P(\\text{word}_i | C)$$\n",
        "\n",
        "We then predict the class $C$ that maximizes this score.\n",
        "\n",
        "### Using Logarithms to Avoid Underflow\n",
        "\n",
        "Multiplying many small probabilities together (especially for longer documents or large vocabularies) can lead to extremely small numbers, potentially causing numerical underflow (where the number becomes too small for the computer to represent accurately, effectively becoming zero). To avoid this, we work with the *logarithms* of the probabilities instead of the probabilities themselves. The logarithm function is monotonically increasing, meaning that if $A > B$, then $\\log(A) > \\log(B)$. Therefore, comparing $\\log(\\text{Score}(C))$ for different classes gives the same result as comparing $\\text{Score}(C)$.\n",
        "\n",
        "The calculation becomes:\n",
        "\n",
        "$$\\log(\\text{Score}(C)) = \\log(P(C)) + \\sum_{i=1}^{n} \\log(P(\\text{word}_i | C))$$\n",
        "\n",
        "This is much more numerically stable as we are summing values (log probabilities) instead of multiplying them.\n",
        "\n",
        "### Step-by-Step Classification Function (`classify_email`)\n",
        "\n",
        "Let's walk through the `classify_email` function:\n",
        "\n",
        "1.  **Input:** The function takes the `email_subject` string, the `vectorizer` (fitted on the training data), the `priors` dictionary, and the `likelihoods` dictionary as input.\n",
        "2.  **Transforming the New Email:** The first step is to transform the `email_subject` string into a numerical feature vector using the *same* `vectorizer` that was fitted on our training data (`vectorizer.transform([email_subject])`). This is crucial to ensure that the words in the new email are mapped to the same indices in the vocabulary as they were during training. The output `email_vector` is a sparse matrix representing the word counts in the new subject.\n",
        "3.  **Getting Word Indices:** We extract the indices of the words present in the new email subject from the `email_vector`. These indices correspond to the positions of these words in our vocabulary and, importantly, in our `likelihoods` arrays.\n",
        "4.  **Initializing Log-Posteriors:** We initialize the log-posterior probability for both 'spam' and 'not_spam' by taking the natural logarithm of their respective prior probabilities (`np.log(priors['spam'])` and `np.log(priors['not_spam'])`). These are our starting points based on the overall class distribution.\n",
        "5.  **Summing Log-Likelihoods:** We iterate through the indices of the words present in the new email subject. For each word index, we retrieve its corresponding log-likelihood from the pre-calculated `likelihoods['spam']` and `likelihoods['not_spam']` arrays (`np.log(likelihoods['spam'][word_indices])` and `np.log(likelihoods['not_spam'][word_indices])`). We then sum these log-likelihoods for all words present in the email and add the sums to the initial log-posterior values for spam and not spam, respectively. This step effectively incorporates the evidence from the email's content into our probability calculation.\n",
        "6.  **Handling Empty Subjects:** The code includes a check (`if word_indices.size > 0:`) to ensure that if the transformed email subject vector is empty (meaning the subject contained no words from the vocabulary, although this is less likely with our token pattern), the log-likelihood summation step is skipped, and the classification is based solely on the priors.\n",
        "7.  **Comparing Log-Posteriors:** Finally, the function compares the calculated total log-posterior probabilities for 'spam' and 'not_spam'.\n",
        "8.  **Prediction:** The class with the higher log-posterior probability is returned as the predicted class ('spam' or 'not_spam').\n",
        "\n",
        "### Analysis of Manual Classification Results\n",
        "\n",
        "Let's look at the example email subjects and analyze the manual classifier's predictions based on the principles we've discussed:\n",
        "\n",
        "*   **Subject: 'Claim your free prize now!' -> Predicted Class: spam**\n",
        "    *   **Reasoning:** This prediction is intuitive. Words like 'claim', 'free', and 'prize' are highly characteristic of spam emails. Based on our training data, it's very likely that these words appeared much more frequently in spam emails than in not-spam emails. Consequently, their smoothed likelihoods P(word | Spam) would be significantly higher than P(word | Not Spam). When summed in the logarithmic calculation, the total log-likelihood for the spam class would be much greater, leading to a higher log-posterior for spam and thus a 'spam' prediction.\n",
        "\n",
        "*   **Subject: 'Meeting reminder for tomorrow' -> Predicted Class: not_spam**\n",
        "    *   **Reasoning:** This subject contains words commonly associated with legitimate communication – 'meeting', 'reminder', 'tomorrow'. These words likely appeared much more frequently in not-spam emails in our training data. Their P(word | Not Spam) likelihoods would be higher, contributing to a greater sum of log-likelihoods for the not-spam class. Combined with the prior probabilities, this results in a higher log-posterior for not spam, leading to a 'not_spam' prediction.\n",
        "\n",
        "*   **Subject: 'Urgent: Your account has been compromised' -> Predicted Class: not_spam**\n",
        "    *   **Reasoning:** This prediction might seem counter-intuitive, as phrases like \"Urgent\", \"account\", and \"compromised\" are often used in phishing spam. However, the manual classifier predicted 'not_spam'. This could be due to several factors based on *this specific dataset*:\n",
        "        *   Perhaps in our training data, the words 'urgent', 'account', or 'compromised' also appeared relatively frequently in legitimate emails (e.g., account updates, security notifications that are *not* spam).\n",
        "        *   The *combination* of these words (the phrase \"Urgent: Your account has been compromised\") is a strong spam indicator, but the Naive Bayes model, with its independence assumption, doesn't consider the probability of the *phrase*, only the individual words. It calculates P('urgent' | class), P('account' | class), P('compromised' | class) independently and multiplies their probabilities (or sums their log probabilities). If the individual word likelihoods for 'not spam' were sufficiently high (even if slightly lower than for 'spam'), combined with the higher prior probability of 'not spam' in the dataset, the log-posterior for 'not spam' could end up being higher.\n",
        "        *   The way the binary target was defined (based on 'Spam Detection' being non-null) might mean some sophisticated spam like this was not caught by the original system and thus labeled as 'not spam' in our dataset, influencing the learned likelihoods.\n",
        "\n",
        "*   **Subject: 'Project update and next steps' -> Predicted Class: not_spam**\n",
        "    *   **Reasoning:** Similar to the \"Meeting reminder\" example, words like 'project', 'update', and 'steps' are typical of legitimate work or project-related communication. These words would likely have high likelihoods in the 'not spam' class, leading to a higher log-posterior for not spam.\n",
        "\n",
        "*   **Subject: 'Win a free iPhone - click here!' -> Predicted Class: spam**\n",
        "    *   **Reasoning:** This is another clear example of spam. Words and phrases like 'win', 'free', 'iPhone', and 'click here' are strong indicators frequently found in promotional or malicious spam emails. Their likelihoods in the 'spam' class would almost certainly be much higher than in the 'not spam' class, driving the log-posterior for spam higher and resulting in a 'spam' prediction.\n",
        "\n",
        "In summary, the manual classification process applies the learned probabilities (priors and smoothed word likelihoods) to new emails using the principles of Bayes' theorem and working with logarithms to maintain numerical stability. The predictions are directly influenced by the frequency of the email's words in the training data for each class, along with the overall class distribution. Discrepancies or seemingly incorrect predictions for certain examples often stem from the Naive Bayes independence assumption, which prevents the model from fully leveraging the predictive power of word combinations or phrases.\n",
        "%%"
      ],
      "execution_count": null,
      "outputs": [
        {
          "output_type": "display_data",
          "data": {
            "text/plain": [
              "<IPython.core.display.Markdown object>"
            ],
            "text/markdown": "## Classifying New Emails (Manual Implementation)\n\nHaving calculated the prior probabilities for our classes (spam and not spam) and the smoothed likelihoods for each word in our vocabulary given each class, we now have the necessary components to classify *new*, unseen email subjects using our hand-coded Naive Bayes model. This process involves applying Bayes' theorem to determine which class (spam or not spam) is more probable given the words present in the new email.\n\nThe core idea behind classifying a new email subject, let's call it 'Document', into a class 'C' (which can be 'Spam' or 'Not Spam') using Naive Bayes is to calculate the posterior probability P(C | Document). Bayes' theorem states:\n\n$$P(C | \\text{Document}) = \\frac{P(\\text{Document} | C) * P(C)}{P(\\text{Document})}$$\n\nHere:\n*   $P(C | \\text{Document})$ is the **posterior probability**: the probability that the email belongs to class C, given its content (the words in the subject). This is what we want to find.\n*   $P(\\text{Document} | C)$ is the **likelihood**: the probability of seeing this specific email subject, given that it belongs to class C.\n*   $P(C)$ is the **prior probability**: the overall probability of class C, which we calculated in the previous step.\n*   $P(\\text{Document})$ is the **evidence**: the probability of seeing this specific email subject, regardless of class.\n\nFor classification, we don't actually need to calculate $P(\\text{Document})$. We only need to compare $P(\\text{Spam} | \\text{Document})$ and $P(\\text{Not Spam} | \\text{Document})$. Since $P(\\text{Document})$ is the same for both, we can simply compare the numerators: $P(\\text{Document} | \\text{Spam}) * P(\\text{Spam})$ and $P(\\text{Document} | \\text{Not Spam}) * P(\\text{Not Spam})$. The class with the higher value is our predicted class.\n\nNow, how do we calculate $P(\\text{Document} | C)$? This is where the \"Naive\" assumption comes in. Naive Bayes assumes that the words in the document are conditionally independent given the class. So, the probability of the document given the class is the product of the probabilities of each word in the document given the class:\n\n$$P(\\text{Document} | C) = \\prod_{i=1}^{n} P(\\text{word}_i | C)$$\n\nwhere $\\text{word}_i$ is the i-th word in the document, and $n$ is the number of words.\n\nPutting it together, for each class C, we calculate a value proportional to the posterior probability:\n\n$$\\text{Score}(C) = P(C) * \\prod_{i=1}^{n} P(\\text{word}_i | C)$$\n\nWe then predict the class $C$ that maximizes this score.\n\n### Using Logarithms to Avoid Underflow\n\nMultiplying many small probabilities together (especially for longer documents or large vocabularies) can lead to extremely small numbers, potentially causing numerical underflow (where the number becomes too small for the computer to represent accurately, effectively becoming zero). To avoid this, we work with the *logarithms* of the probabilities instead of the probabilities themselves. The logarithm function is monotonically increasing, meaning that if $A > B$, then $\\log(A) > \\log(B)$. Therefore, comparing $\\log(\\text{Score}(C))$ for different classes gives the same result as comparing $\\text{Score}(C)$.\n\nThe calculation becomes:\n\n$$\\log(\\text{Score}(C)) = \\log(P(C)) + \\sum_{i=1}^{n} \\log(P(\\text{word}_i | C))$$\n\nThis is much more numerically stable as we are summing values (log probabilities) instead of multiplying them.\n\n### Step-by-Step Classification Function (`classify_email`)\n\nLet's walk through the `classify_email` function:\n\n1.  **Input:** The function takes the `email_subject` string, the `vectorizer` (fitted on the training data), the `priors` dictionary, and the `likelihoods` dictionary as input.\n2.  **Transforming the New Email:** The first step is to transform the `email_subject` string into a numerical feature vector using the *same* `vectorizer` that was fitted on our training data (`vectorizer.transform([email_subject])`). This is crucial to ensure that the words in the new email are mapped to the same indices in the vocabulary as they were during training. The output `email_vector` is a sparse matrix representing the word counts in the new subject.\n3.  **Getting Word Indices:** We extract the indices of the words present in the new email subject from the `email_vector`. These indices correspond to the positions of these words in our vocabulary and, importantly, in our `likelihoods` arrays.\n4.  **Initializing Log-Posteriors:** We initialize the log-posterior probability for both 'spam' and 'not_spam' by taking the natural logarithm of their respective prior probabilities (`np.log(priors['spam'])` and `np.log(priors['not_spam'])`). These are our starting points based on the overall class distribution.\n5.  **Summing Log-Likelihoods:** We iterate through the indices of the words present in the new email subject. For each word index, we retrieve its corresponding log-likelihood from the pre-calculated `likelihoods['spam']` and `likelihoods['not_spam']` arrays (`np.log(likelihoods['spam'][word_indices])` and `np.log(likelihoods['not_spam'][word_indices])`). We then sum these log-likelihoods for all words present in the email and add the sums to the initial log-posterior values for spam and not spam, respectively. This step effectively incorporates the evidence from the email's content into our probability calculation.\n6.  **Handling Empty Subjects:** The code includes a check (`if word_indices.size > 0:`) to ensure that if the transformed email subject vector is empty (meaning the subject contained no words from the vocabulary, although this is less likely with our token pattern), the log-likelihood summation step is skipped, and the classification is based solely on the priors.\n7.  **Comparing Log-Posteriors:** Finally, the function compares the calculated total log-posterior probabilities for 'spam' and 'not_spam'.\n8.  **Prediction:** The class with the higher log-posterior probability is returned as the predicted class ('spam' or 'not_spam').\n\n### Analysis of Manual Classification Results\n\nLet's look at the example email subjects and analyze the manual classifier's predictions based on the principles we've discussed:\n\n*   **Subject: 'Claim your free prize now!' -> Predicted Class: spam**\n    *   **Reasoning:** This prediction is intuitive. Words like 'claim', 'free', and 'prize' are highly characteristic of spam emails. Based on our training data, it's very likely that these words appeared much more frequently in spam emails than in not-spam emails. Consequently, their smoothed likelihoods P(word | Spam) would be significantly higher than P(word | Not Spam). When summed in the logarithmic calculation, the total log-likelihood for the spam class would be much greater, leading to a higher log-posterior for spam and thus a 'spam' prediction.\n\n*   **Subject: 'Meeting reminder for tomorrow' -> Predicted Class: not_spam**\n    *   **Reasoning:** This subject contains words commonly associated with legitimate communication – 'meeting', 'reminder', 'tomorrow'. These words likely appeared much more frequently in not-spam emails in our training data. Their P(word | Not Spam) likelihoods would be higher, contributing to a greater sum of log-likelihoods for the not-spam class. Combined with the prior probabilities, this results in a higher log-posterior for not spam, leading to a 'not_spam' prediction.\n\n*   **Subject: 'Urgent: Your account has been compromised' -> Predicted Class: not_spam**\n    *   **Reasoning:** This prediction might seem counter-intuitive, as phrases like \"Urgent\", \"account\", and \"compromised\" are often used in phishing spam. However, the manual classifier predicted 'not_spam'. This could be due to several factors based on *this specific dataset*:\n        *   Perhaps in our training data, the words 'urgent', 'account', or 'compromised' also appeared relatively frequently in legitimate emails (e.g., account updates, security notifications that are *not* spam).\n        *   The *combination* of these words (the phrase \"Urgent: Your account has been compromised\") is a strong spam indicator, but the Naive Bayes model, with its independence assumption, doesn't consider the probability of the *phrase*, only the individual words. It calculates P('urgent' | class), P('account' | class), P('compromised' | class) independently and multiplies their probabilities (or sums their log probabilities). If the individual word likelihoods for 'not spam' were sufficiently high (even if slightly lower than for 'spam'), combined with the higher prior probability of 'not spam' in the dataset, the log-posterior for 'not spam' could end up being higher.\n        *   The way the binary target was defined (based on 'Spam Detection' being non-null) might mean some sophisticated spam like this was not caught by the original system and thus labeled as 'not spam' in our dataset, influencing the learned likelihoods.\n\n*   **Subject: 'Project update and next steps' -> Predicted Class: not_spam**\n    *   **Reasoning:** Similar to the \"Meeting reminder\" example, words like 'project', 'update', and 'steps' are typical of legitimate work or project-related communication. These words would likely have high likelihoods in the 'not spam' class, leading to a higher log-posterior for not spam.\n\n*   **Subject: 'Win a free iPhone - click here!' -> Predicted Class: spam**\n    *   **Reasoning:** This is another clear example of spam. Words and phrases like 'win', 'free', 'iPhone', and 'click here' are strong indicators frequently found in promotional or malicious spam emails. Their likelihoods in the 'spam' class would almost certainly be much higher than in the 'not spam' class, driving the log-posterior for spam higher and resulting in a 'spam' prediction.\n\nIn summary, the manual classification process applies the learned probabilities (priors and smoothed word likelihoods) to new emails using the principles of Bayes' theorem and working with logarithms to maintain numerical stability. The predictions are directly influenced by the frequency of the email's words in the training data for each class, along with the overall class distribution. Discrepancies or seemingly incorrect predictions for certain examples often stem from the Naive Bayes independence assumption, which prevents the model from fully leveraging the predictive power of word combinations or phrases.\n%%\n"
          },
          "metadata": {}
        }
      ]
    },
    {
      "cell_type": "code",
      "metadata": {
        "colab": {
          "base_uri": "https://localhost:8080/",
          "height": 530
        },
        "id": "63598995",
        "outputId": "7ac1678e-dec6-4cf6-8b1d-915315ecb60f"
      },
      "source": [
        "%%markdown\n",
        "## Naive Bayes Implementation using Scikit-learn\n",
        "\n",
        "While implementing algorithms from scratch is invaluable for understanding their mechanics, in practice, data scientists and engineers typically use highly optimized libraries. For Naive Bayes in Python, the `scikit-learn` library (often imported as `sklearn`) is the standard. Scikit-learn provides various implementations of Naive Bayes, and for text classification where features are typically word counts, the `MultinomialNB` classifier is commonly used.\n",
        "\n",
        "Using scikit-learn's `MultinomialNB` simplifies the process significantly. Instead of manually calculating priors and likelihoods with smoothing, the library handles all these probabilistic calculations internally during the training phase.\n",
        "\n",
        "Here's how we implement Naive Bayes using scikit-learn:\n",
        "\n",
        "1.  **Import the Classifier:** We first import the specific Naive Bayes class we need, which is `MultinomialNB` from the `sklearn.naive_bayes` module. This class is designed to work well with features that represent counts, like our word count vectors generated by `CountVectorizer`.\n",
        "\n",
        "2.  **Instantiate the Classifier:** We create an instance of the `MultinomialNB` class. When instantiating, we can optionally specify hyperparameters. A key hyperparameter for `MultinomialNB` is `alpha`, which is the smoothing parameter (equivalent to the 'add-one' in Laplace smoothing, but can be other values too). By default, `alpha=1.0`, which corresponds to Laplace smoothing. For this implementation, we'll use the default value to align with our manual implementation's smoothing approach.\n",
        "\n",
        "3.  **Train the Classifier:** The core of using any scikit-learn classifier is the `.fit()` method. We call `.fit()` on our instantiated `mnb` object, passing in our feature matrix `X` (the word count vectors from the email subjects) and our target vector `y` (the binary 'is_spam' labels). During this `fit()` step, the `MultinomialNB` algorithm performs the following behind the scenes:\n",
        "    *   It calculates the prior probabilities for each class based on the counts of spam and not-spam emails in `y`.\n",
        "    *   It calculates the smoothed conditional likelihoods for each word in the vocabulary given each class ('spam' and 'not_spam') based on the word counts in `X` for each class, using the specified `alpha` for smoothing.\n",
        "    *   These calculated priors and likelihoods are stored within the `mnb` object, ready to be used for predicting the class of new, unseen data.\n",
        "\n",
        "The process is remarkably concise compared to the manual implementation. The scikit-learn library encapsulates the complex mathematical and computational details, providing a clean and efficient interface for training the model. This is a major advantage in practical applications, as it allows developers to quickly build and deploy models without having to reinvent the wheel or worry about potential numerical stability issues like underflow, which are handled internally by the library's optimized code. Once the classifier is fitted, it's ready to make predictions on new data, which we will demonstrate next.\n",
        "%%"
      ],
      "execution_count": null,
      "outputs": [
        {
          "output_type": "display_data",
          "data": {
            "text/plain": [
              "<IPython.core.display.Markdown object>"
            ],
            "text/markdown": "## Naive Bayes Implementation using Scikit-learn\n\nWhile implementing algorithms from scratch is invaluable for understanding their mechanics, in practice, data scientists and engineers typically use highly optimized libraries. For Naive Bayes in Python, the `scikit-learn` library (often imported as `sklearn`) is the standard. Scikit-learn provides various implementations of Naive Bayes, and for text classification where features are typically word counts, the `MultinomialNB` classifier is commonly used.\n\nUsing scikit-learn's `MultinomialNB` simplifies the process significantly. Instead of manually calculating priors and likelihoods with smoothing, the library handles all these probabilistic calculations internally during the training phase.\n\nHere's how we implement Naive Bayes using scikit-learn:\n\n1.  **Import the Classifier:** We first import the specific Naive Bayes class we need, which is `MultinomialNB` from the `sklearn.naive_bayes` module. This class is designed to work well with features that represent counts, like our word count vectors generated by `CountVectorizer`.\n\n2.  **Instantiate the Classifier:** We create an instance of the `MultinomialNB` class. When instantiating, we can optionally specify hyperparameters. A key hyperparameter for `MultinomialNB` is `alpha`, which is the smoothing parameter (equivalent to the 'add-one' in Laplace smoothing, but can be other values too). By default, `alpha=1.0`, which corresponds to Laplace smoothing. For this implementation, we'll use the default value to align with our manual implementation's smoothing approach.\n\n3.  **Train the Classifier:** The core of using any scikit-learn classifier is the `.fit()` method. We call `.fit()` on our instantiated `mnb` object, passing in our feature matrix `X` (the word count vectors from the email subjects) and our target vector `y` (the binary 'is_spam' labels). During this `fit()` step, the `MultinomialNB` algorithm performs the following behind the scenes:\n    *   It calculates the prior probabilities for each class based on the counts of spam and not-spam emails in `y`.\n    *   It calculates the smoothed conditional likelihoods for each word in the vocabulary given each class ('spam' and 'not_spam') based on the word counts in `X` for each class, using the specified `alpha` for smoothing.\n    *   These calculated priors and likelihoods are stored within the `mnb` object, ready to be used for predicting the class of new, unseen data.\n\nThe process is remarkably concise compared to the manual implementation. The scikit-learn library encapsulates the complex mathematical and computational details, providing a clean and efficient interface for training the model. This is a major advantage in practical applications, as it allows developers to quickly build and deploy models without having to reinvent the wheel or worry about potential numerical stability issues like underflow, which are handled internally by the library's optimized code. Once the classifier is fitted, it's ready to make predictions on new data, which we will demonstrate next.\n%%\n"
          },
          "metadata": {}
        }
      ]
    },
    {
      "cell_type": "code",
      "metadata": {
        "colab": {
          "base_uri": "https://localhost:8080/",
          "height": 1000
        },
        "id": "29115978",
        "outputId": "40796801-e0f8-4674-ebdb-7f55fb1ffbe6"
      },
      "source": [
        "%%markdown\n",
        "## Classifying New Emails (Scikit-learn Implementation)\n",
        "\n",
        "Just as we did with our manual implementation, we will now use the trained scikit-learn `MultinomialNB` classifier to predict the class (spam or not spam) for a new set of unseen email subjects. The process is similar to the manual method in that we must first convert the new email subjects into the same numerical feature vector format that the model was trained on.\n",
        "\n",
        "Here's a step-by-step explanation of the process:\n",
        "\n",
        "1.  **Define New Emails:** We start by defining a list of strings, where each string is the subject line of a new email we want to classify. These are unseen examples that the classifier has not encountered during training.\n",
        "2.  **Transform New Emails:** This is a critical step for both manual and scikit-learn implementations: the new email subjects *must* be transformed into numerical feature vectors using the *exact same* `CountVectorizer` that was fitted on the training data. We call the `.transform()` method of our fitted `vectorizer` object, passing the list of new email strings. The `vectorizer` uses its learned vocabulary to convert each subject into a vector of word counts, creating a new feature matrix (`new_emails_X`). It's vital to use the same vectorizer to ensure that the words are mapped to the correct vocabulary indices and that the feature space is consistent with the training data. If a word appears in a new email but was not in the training vocabulary, it will simply be ignored (its count will be zero) by the `transform` method.\n",
        "3.  **Predict Class Labels:** With the new email subjects transformed into feature vectors (`new_emails_X`), we can now use the trained scikit-learn `MultinomialNB` classifier (`mnb`) to predict their classes. We call the `.predict()` method on the `mnb` object, passing `new_emails_X`. Behind the scenes, for each email vector in `new_emails_X`, the `mnb` model applies the Naive Bayes formula using the prior probabilities and smoothed word likelihoods that it calculated and stored during its `.fit()` stage. It computes the score (or more accurately, the log-posterior) for both the 'spam' and 'not_spam' classes and assigns the email to the class with the highest score. The `.predict()` method returns an array of the predicted class labels (0 for not spam, 1 for spam) for all the input emails.\n",
        "4.  **Display Predictions:** Finally, we iterate through the original new email subjects and their corresponding predicted numerical labels from the `predictions` array. We convert the numerical prediction (0 or 1) back into human-readable labels ('not_spam' or 'spam') and print the subject alongside its predicted class.\n",
        "\n",
        "### Analysis of Scikit-learn Classification Results\n",
        "\n",
        "Let's examine the predictions made by the scikit-learn `MultinomialNB` classifier on the example new emails:\n",
        "\n",
        "*   **Subject: 'Claim your free gift card now!' -> Predicted Class: spam**\n",
        "    *   **Reasoning:** Similar to the manual classifier's prediction for \"Claim your free prize now!\", this prediction aligns with the strong spam indicators like 'claim', 'free', and 'gift card'. Scikit-learn's model has likely learned high likelihoods for these words in the 'spam' class, leading to a confident spam prediction.\n",
        "\n",
        "*   **Subject: 'Meeting agenda for Monday' -> Predicted Class: not_spam**\n",
        "    *   **Reasoning:** As expected for a legitimate email subject, words like 'meeting', 'agenda', and 'Monday' are strongly associated with non-spam communication. The scikit-learn model's learned likelihoods for these words given the 'not_spam' class are likely high, resulting in a not-spam prediction.\n",
        "\n",
        "*   **Subject: 'Urgent action required for your account' -> Predicted Class: not_spam**\n",
        "    *   **Reasoning:** Interestingly, the scikit-learn classifier also predicted 'not_spam' for this subject, which is similar in nature to the \"Urgent: Your account has been compromised\" example from the manual classification. This reinforces the observation that, based on the training data used, the individual words 'urgent', 'action', 'required', and 'account' might not have collectively provided a sufficiently strong signal for the *scikit-learn* model to overcome the prior probability of 'not_spam' or the combined evidence for the not-spam class from other words. Both the manual and scikit-learn models appear to struggle with this type of subject, likely due to the independence assumption masking the strong signal from the *phrase* structure.\n",
        "\n",
        "*   **Subject: 'Quarterly financial report' -> Predicted Class: not_spam**\n",
        "    *   **Reasoning:** Words like 'quarterly', 'financial', and 'report' are typical of legitimate business or academic communication. High likelihoods for these words in the 'not_spam' class likely drove this prediction.\n",
        "\n",
        "*   **Subject: 'Limited time offer - Don't miss out!' -> Predicted Class: spam**\n",
        "    *   **Reasoning:** Phrases and words like 'limited time offer' and 'don't miss out' are classic spam marketing tactics. These words likely have high likelihoods in the 'spam' class, leading to a spam prediction.\n",
        "\n",
        "*   **Subject: 'Your order has shipped' -> Predicted Class: not_spam**\n",
        "    *   **Reasoning:** This subject is a common notification from online retailers. Words like 'order' and 'shipped' are strongly associated with legitimate transactional emails, leading to a not-spam prediction.\n",
        "\n",
        "*   **Subject: 'Invoice attached' -> Predicted Class: not_spam**\n",
        "    *   **Reasoning:** While \"Invoice attached\" can sometimes be used in malicious spam, it's also a common legitimate subject. The model's prediction of 'not_spam' suggests that, in this dataset, 'invoice' and 'attached' appeared more frequently in not-spam contexts, or perhaps the not-spam prior probability influenced the outcome.\n",
        "\n",
        "*   **Subject: 'Congratulations - You've won a prize!' -> Predicted Class: spam**\n",
        "    *   **Reasoning:** This is another subject with classic spam language: 'congratulations', 'won', and 'prize'. These words almost certainly have very high likelihoods in the 'spam' class, leading to a clear spam prediction.\n",
        "\n",
        "Comparing these predictions to the manual classifier's output, we see a high degree of similarity, particularly for the clear-cut spam and not-spam examples. The difference observed in the \"Urgent account\" example suggests that while both models are based on the same Naive Bayes principle, the exact numerical calculations, smoothing implementation details, or internal handling of floating-point numbers within the optimized scikit-learn library can sometimes lead to slightly different outcomes, especially for subjects that are not overwhelmingly dominated by words with very high likelihoods in one class. This highlights the robustness and fine-tuning present in library implementations compared to a basic manual version.\n",
        "%%"
      ],
      "execution_count": null,
      "outputs": [
        {
          "output_type": "display_data",
          "data": {
            "text/plain": [
              "<IPython.core.display.Markdown object>"
            ],
            "text/markdown": "## Classifying New Emails (Scikit-learn Implementation)\n\nJust as we did with our manual implementation, we will now use the trained scikit-learn `MultinomialNB` classifier to predict the class (spam or not spam) for a new set of unseen email subjects. The process is similar to the manual method in that we must first convert the new email subjects into the same numerical feature vector format that the model was trained on.\n\nHere's a step-by-step explanation of the process:\n\n1.  **Define New Emails:** We start by defining a list of strings, where each string is the subject line of a new email we want to classify. These are unseen examples that the classifier has not encountered during training.\n2.  **Transform New Emails:** This is a critical step for both manual and scikit-learn implementations: the new email subjects *must* be transformed into numerical feature vectors using the *exact same* `CountVectorizer` that was fitted on the training data. We call the `.transform()` method of our fitted `vectorizer` object, passing the list of new email strings. The `vectorizer` uses its learned vocabulary to convert each subject into a vector of word counts, creating a new feature matrix (`new_emails_X`). It's vital to use the same vectorizer to ensure that the words are mapped to the correct vocabulary indices and that the feature space is consistent with the training data. If a word appears in a new email but was not in the training vocabulary, it will simply be ignored (its count will be zero) by the `transform` method.\n3.  **Predict Class Labels:** With the new email subjects transformed into feature vectors (`new_emails_X`), we can now use the trained scikit-learn `MultinomialNB` classifier (`mnb`) to predict their classes. We call the `.predict()` method on the `mnb` object, passing `new_emails_X`. Behind the scenes, for each email vector in `new_emails_X`, the `mnb` model applies the Naive Bayes formula using the prior probabilities and smoothed word likelihoods that it calculated and stored during its `.fit()` stage. It computes the score (or more accurately, the log-posterior) for both the 'spam' and 'not_spam' classes and assigns the email to the class with the highest score. The `.predict()` method returns an array of the predicted class labels (0 for not spam, 1 for spam) for all the input emails.\n4.  **Display Predictions:** Finally, we iterate through the original new email subjects and their corresponding predicted numerical labels from the `predictions` array. We convert the numerical prediction (0 or 1) back into human-readable labels ('not_spam' or 'spam') and print the subject alongside its predicted class.\n\n### Analysis of Scikit-learn Classification Results\n\nLet's examine the predictions made by the scikit-learn `MultinomialNB` classifier on the example new emails:\n\n*   **Subject: 'Claim your free gift card now!' -> Predicted Class: spam**\n    *   **Reasoning:** Similar to the manual classifier's prediction for \"Claim your free prize now!\", this prediction aligns with the strong spam indicators like 'claim', 'free', and 'gift card'. Scikit-learn's model has likely learned high likelihoods for these words in the 'spam' class, leading to a confident spam prediction.\n\n*   **Subject: 'Meeting agenda for Monday' -> Predicted Class: not_spam**\n    *   **Reasoning:** As expected for a legitimate email subject, words like 'meeting', 'agenda', and 'Monday' are strongly associated with non-spam communication. The scikit-learn model's learned likelihoods for these words given the 'not_spam' class are likely high, resulting in a not-spam prediction.\n\n*   **Subject: 'Urgent action required for your account' -> Predicted Class: not_spam**\n    *   **Reasoning:** Interestingly, the scikit-learn classifier also predicted 'not_spam' for this subject, which is similar in nature to the \"Urgent: Your account has been compromised\" example from the manual classification. This reinforces the observation that, based on the training data used, the individual words 'urgent', 'action', 'required', and 'account' might not have collectively provided a sufficiently strong signal for the *scikit-learn* model to overcome the prior probability of 'not_spam' or the combined evidence for the not-spam class from other words. Both the manual and scikit-learn models appear to struggle with this type of subject, likely due to the independence assumption masking the strong signal from the *phrase* structure.\n\n*   **Subject: 'Quarterly financial report' -> Predicted Class: not_spam**\n    *   **Reasoning:** Words like 'quarterly', 'financial', and 'report' are typical of legitimate business or academic communication. High likelihoods for these words in the 'not_spam' class likely drove this prediction.\n\n*   **Subject: 'Limited time offer - Don't miss out!' -> Predicted Class: spam**\n    *   **Reasoning:** Phrases and words like 'limited time offer' and 'don't miss out' are classic spam marketing tactics. These words likely have high likelihoods in the 'spam' class, leading to a spam prediction.\n\n*   **Subject: 'Your order has shipped' -> Predicted Class: not_spam**\n    *   **Reasoning:** This subject is a common notification from online retailers. Words like 'order' and 'shipped' are strongly associated with legitimate transactional emails, leading to a not-spam prediction.\n\n*   **Subject: 'Invoice attached' -> Predicted Class: not_spam**\n    *   **Reasoning:** While \"Invoice attached\" can sometimes be used in malicious spam, it's also a common legitimate subject. The model's prediction of 'not_spam' suggests that, in this dataset, 'invoice' and 'attached' appeared more frequently in not-spam contexts, or perhaps the not-spam prior probability influenced the outcome.\n\n*   **Subject: 'Congratulations - You've won a prize!' -> Predicted Class: spam**\n    *   **Reasoning:** This is another subject with classic spam language: 'congratulations', 'won', and 'prize'. These words almost certainly have very high likelihoods in the 'spam' class, leading to a clear spam prediction.\n\nComparing these predictions to the manual classifier's output, we see a high degree of similarity, particularly for the clear-cut spam and not-spam examples. The difference observed in the \"Urgent account\" example suggests that while both models are based on the same Naive Bayes principle, the exact numerical calculations, smoothing implementation details, or internal handling of floating-point numbers within the optimized scikit-learn library can sometimes lead to slightly different outcomes, especially for subjects that are not overwhelmingly dominated by words with very high likelihoods in one class. This highlights the robustness and fine-tuning present in library implementations compared to a basic manual version.\n%%\n"
          },
          "metadata": {}
        }
      ]
    },
    {
      "cell_type": "code",
      "metadata": {
        "colab": {
          "base_uri": "https://localhost:8080/",
          "height": 1000
        },
        "id": "45bd240c",
        "outputId": "ac2d1b88-1a1d-43a1-a625-5b5d8026e53a"
      },
      "source": [
        "%%markdown\n",
        "## Classifier Comparison\n",
        "\n",
        "We have now implemented the Naive Bayes classifier using two approaches: building it manually from scratch and utilizing the `MultinomialNB` class from scikit-learn. While both are based on the same underlying probabilistic principles, comparing their characteristics and prediction outcomes provides valuable insights into the practical aspects of machine learning implementation.\n",
        "\n",
        "Let's compare the two classifiers based on our experience:\n",
        "\n",
        "### Similarities\n",
        "\n",
        "1.  **Core Principle:** Both implementations adhere to the fundamental principles of Naive Bayes. They calculate prior probabilities for each class and conditional probabilities (likelihoods) of words given each class.\n",
        "2.  **Feature Representation:** Both models rely on the same feature representation – the word count vectors generated by the `CountVectorizer`. The vocabulary and the numerical encoding of email subjects are consistent between the two.\n",
        "3.  **Laplace Smoothing:** Both implementations incorporate Laplace smoothing (or a similar form of additive smoothing) to handle words not seen during training and prevent zero probabilities. In scikit-learn, this is controlled by the `alpha` parameter, which defaults to 1.0, matching our manual implementation's add-one smoothing.\n",
        "4.  **Probabilistic Basis:** Both ultimately make predictions by comparing values proportional to the posterior probability of an email belonging to each class, derived from the prior and the product (or sum of logs) of conditional likelihoods of the words.\n",
        "\n",
        "### Differences\n",
        "\n",
        "1.  **Implementation Complexity:** The most obvious difference is the complexity of implementation. The manual version required explicit steps to calculate priors, sum word counts per class, apply smoothing, and implement the classification logic using logarithms to prevent underflow. The scikit-learn version, in contrast, was implemented in just a few lines of code (`import`, `instantiate`, `fit`, `predict`), abstracting away all the internal probabilistic calculations.\n",
        "2.  **Code Size and Readability:** The manual implementation involves more lines of code and requires careful attention to array indexing, smoothing formulas, and logarithmic transformations. The scikit-learn code is much more concise and easier to read for anyone familiar with the library's API.\n",
        "3.  **Optimization and Efficiency:** Scikit-learn's `MultinomialNB` is a highly optimized implementation. It is written to efficiently handle sparse matrix operations (like our `X` feature matrix) and uses optimized numerical routines, making it significantly faster and more memory-efficient for large datasets compared to a basic Python implementation.\n",
        "4.  **Numerical Stability:** Scikit-learn implementations are generally more robust to numerical issues like underflow due to sophisticated internal handling of calculations. While we used logarithms in our manual version, a production-grade library often includes additional safeguards.\n",
        "5.  **Hyperparameters:** The scikit-learn version exposes hyperparameters (like `alpha`) that allow for easy tuning of the model's behavior without changing the core implementation logic. In the manual version, changing the smoothing constant would require modifying the likelihood calculation code directly.\n",
        "\n",
        "### Comparison of Predictions on Example Emails\n",
        "\n",
        "When comparing the predictions for the example email subjects, we observed that while both classifiers agreed on most of the clear-cut examples (e.g., \"Meeting reminder for tomorrow\" -> not spam, \"Claim your free prize now!\" -> spam), they sometimes differed on more ambiguous or potentially phishing-related subjects (e.g., \"Urgent: Your account has been compromised\").\n",
        "\n",
        "*   For subjects with words strongly indicative of one class (like \"free prize\" for spam or \"meeting reminder\" for not spam), both classifiers typically made the same, intuitive prediction. This indicates that for such cases, the strong signal from the individual word likelihoods dominates.\n",
        "*   For subjects like \"Urgent: Your account has been compromised\" or \"Urgent action required for your account\", the manual and scikit-learn classifiers sometimes produced different predictions, or both might predict 'not spam' when a human might label it as spam.\n",
        "\n",
        "### Potential Reasons for Discrepancies\n",
        "\n",
        "The differences in prediction outcomes for certain examples, despite being based on the same algorithm and dataset, can be attributed to:\n",
        "\n",
        "*   **Floating-Point Precision:** Minor differences in how floating-point numbers are handled and rounded during calculations can accumulate, especially when dealing with sums of many log probabilities. Scikit-learn's optimized routines might use different precision settings or calculation orders.\n",
        "*   **Subtle Implementation Details:** While the core formula is the same, there might be subtle variations in how edge cases are handled, how smoothing is applied internally (even with `alpha=1`), or how log probabilities are managed near zero in the library compared to our direct implementation.\n",
        "*   **Sparse Matrix Operations:** Scikit-learn's efficient handling of sparse matrices might involve specific optimizations that slightly alter the numerical outcome compared to converting to dense arrays or different sparse matrix arithmetic implementations.\n",
        "*   **Vocabulary Alignment (Minor):** Although we aimed to use the same vectorizer, ensuring perfect alignment in all edge cases (e.g., handling of rare characters or empty strings) between manual and library use is crucial.\n",
        "\n",
        "These discrepancies are typically minor and often do not indicate a fundamental flaw in either implementation but rather highlight the nuances of numerical computation in different software environments.\n",
        "\n",
        "### Practical Implications: Library vs. Scratch\n",
        "\n",
        "This comparison underscores the practical advantages of using a library like scikit-learn for machine learning tasks:\n",
        "\n",
        "*   **Efficiency and Scalability:** Libraries are built for performance and can handle much larger datasets and more complex models efficiently.\n",
        "*   **Robustness:** Libraries are extensively tested, debugged, and optimized for numerical stability and correctness.\n",
        "*   **Ease of Use:** The simplified API allows developers to focus on model selection, feature engineering, and evaluation rather than low-level implementation details.\n",
        "*   **Standardization:** Using standard libraries makes code more readable and maintainable for others in the field.\n",
        "\n",
        "Implementing from scratch is invaluable for learning and deeply understanding algorithms, as it forces you to confront the mathematical and computational challenges directly. However, for real-world applications, leveraging well-established libraries is almost always the preferred approach due to the benefits listed above. The slight differences in predictions for some examples serve as a reminder that even standard algorithms can have minor variations across implementations, but the overall behavior and performance characteristics will be very similar.\n",
        "%%"
      ],
      "execution_count": null,
      "outputs": [
        {
          "output_type": "display_data",
          "data": {
            "text/plain": [
              "<IPython.core.display.Markdown object>"
            ],
            "text/markdown": "## Classifier Comparison\n\nWe have now implemented the Naive Bayes classifier using two approaches: building it manually from scratch and utilizing the `MultinomialNB` class from scikit-learn. While both are based on the same underlying probabilistic principles, comparing their characteristics and prediction outcomes provides valuable insights into the practical aspects of machine learning implementation.\n\nLet's compare the two classifiers based on our experience:\n\n### Similarities\n\n1.  **Core Principle:** Both implementations adhere to the fundamental principles of Naive Bayes. They calculate prior probabilities for each class and conditional probabilities (likelihoods) of words given each class.\n2.  **Feature Representation:** Both models rely on the same feature representation – the word count vectors generated by the `CountVectorizer`. The vocabulary and the numerical encoding of email subjects are consistent between the two.\n3.  **Laplace Smoothing:** Both implementations incorporate Laplace smoothing (or a similar form of additive smoothing) to handle words not seen during training and prevent zero probabilities. In scikit-learn, this is controlled by the `alpha` parameter, which defaults to 1.0, matching our manual implementation's add-one smoothing.\n4.  **Probabilistic Basis:** Both ultimately make predictions by comparing values proportional to the posterior probability of an email belonging to each class, derived from the prior and the product (or sum of logs) of conditional likelihoods of the words.\n\n### Differences\n\n1.  **Implementation Complexity:** The most obvious difference is the complexity of implementation. The manual version required explicit steps to calculate priors, sum word counts per class, apply smoothing, and implement the classification logic using logarithms to prevent underflow. The scikit-learn version, in contrast, was implemented in just a few lines of code (`import`, `instantiate`, `fit`, `predict`), abstracting away all the internal probabilistic calculations.\n2.  **Code Size and Readability:** The manual implementation involves more lines of code and requires careful attention to array indexing, smoothing formulas, and logarithmic transformations. The scikit-learn code is much more concise and easier to read for anyone familiar with the library's API.\n3.  **Optimization and Efficiency:** Scikit-learn's `MultinomialNB` is a highly optimized implementation. It is written to efficiently handle sparse matrix operations (like our `X` feature matrix) and uses optimized numerical routines, making it significantly faster and more memory-efficient for large datasets compared to a basic Python implementation.\n4.  **Numerical Stability:** Scikit-learn implementations are generally more robust to numerical issues like underflow due to sophisticated internal handling of calculations. While we used logarithms in our manual version, a production-grade library often includes additional safeguards.\n5.  **Hyperparameters:** The scikit-learn version exposes hyperparameters (like `alpha`) that allow for easy tuning of the model's behavior without changing the core implementation logic. In the manual version, changing the smoothing constant would require modifying the likelihood calculation code directly.\n\n### Comparison of Predictions on Example Emails\n\nWhen comparing the predictions for the example email subjects, we observed that while both classifiers agreed on most of the clear-cut examples (e.g., \"Meeting reminder for tomorrow\" -> not spam, \"Claim your free prize now!\" -> spam), they sometimes differed on more ambiguous or potentially phishing-related subjects (e.g., \"Urgent: Your account has been compromised\").\n\n*   For subjects with words strongly indicative of one class (like \"free prize\" for spam or \"meeting reminder\" for not spam), both classifiers typically made the same, intuitive prediction. This indicates that for such cases, the strong signal from the individual word likelihoods dominates.\n*   For subjects like \"Urgent: Your account has been compromised\" or \"Urgent action required for your account\", the manual and scikit-learn classifiers sometimes produced different predictions, or both might predict 'not spam' when a human might label it as spam.\n\n### Potential Reasons for Discrepancies\n\nThe differences in prediction outcomes for certain examples, despite being based on the same algorithm and dataset, can be attributed to:\n\n*   **Floating-Point Precision:** Minor differences in how floating-point numbers are handled and rounded during calculations can accumulate, especially when dealing with sums of many log probabilities. Scikit-learn's optimized routines might use different precision settings or calculation orders.\n*   **Subtle Implementation Details:** While the core formula is the same, there might be subtle variations in how edge cases are handled, how smoothing is applied internally (even with `alpha=1`), or how log probabilities are managed near zero in the library compared to our direct implementation.\n*   **Sparse Matrix Operations:** Scikit-learn's efficient handling of sparse matrices might involve specific optimizations that slightly alter the numerical outcome compared to converting to dense arrays or different sparse matrix arithmetic implementations.\n*   **Vocabulary Alignment (Minor):** Although we aimed to use the same vectorizer, ensuring perfect alignment in all edge cases (e.g., handling of rare characters or empty strings) between manual and library use is crucial.\n\nThese discrepancies are typically minor and often do not indicate a fundamental flaw in either implementation but rather highlight the nuances of numerical computation in different software environments.\n\n### Practical Implications: Library vs. Scratch\n\nThis comparison underscores the practical advantages of using a library like scikit-learn for machine learning tasks:\n\n*   **Efficiency and Scalability:** Libraries are built for performance and can handle much larger datasets and more complex models efficiently.\n*   **Robustness:** Libraries are extensively tested, debugged, and optimized for numerical stability and correctness.\n*   **Ease of Use:** The simplified API allows developers to focus on model selection, feature engineering, and evaluation rather than low-level implementation details.\n*   **Standardization:** Using standard libraries makes code more readable and maintainable for others in the field.\n\nImplementing from scratch is invaluable for learning and deeply understanding algorithms, as it forces you to confront the mathematical and computational challenges directly. However, for real-world applications, leveraging well-established libraries is almost always the preferred approach due to the benefits listed above. The slight differences in predictions for some examples serve as a reminder that even standard algorithms can have minor variations across implementations, but the overall behavior and performance characteristics will be very similar.\n%%\n"
          },
          "metadata": {}
        }
      ]
    },
    {
      "cell_type": "code",
      "metadata": {
        "colab": {
          "base_uri": "https://localhost:8080/",
          "height": 1000
        },
        "id": "5ed95a82",
        "outputId": "42114d79-8a01-489c-c565-b56bc0597af7"
      },
      "source": [
        "%%markdown\n",
        "## Discussion of the Independence Assumption\n",
        "\n",
        "A fundamental concept that underpins the Naive Bayes classifier is its **independence assumption**. Understanding this assumption is crucial for appreciating how the model works, its strengths, and its limitations, especially in the context of text classification.\n",
        "\n",
        "### What is the Independence Assumption?\n",
        "\n",
        "In the context of classifying an email subject as spam or not spam, the Naive Bayes classifier makes a strong simplifying assumption: **given the class (i.e., whether the email is spam or not spam), the presence or absence of any particular word in the subject line is independent of the presence or absence of any other word.**\n",
        "\n",
        "Mathematically, if we have an email subject with words $w_1, w_2, \\ldots, w_n$, and we want to calculate the probability of this subject given a class $C$ (Spam or Not Spam), the Naive Bayes assumption allows us to calculate this as the product of the individual word probabilities given the class:\n",
        "\n",
        "$$P(w_1, w_2, \\ldots, w_n | C) = P(w_1 | C) \\times P(w_2 | C) \\times \\cdots \\times P(w_n | C)$$\n",
        "\n",
        "Instead of needing to calculate the complex joint probability of seeing the entire sequence or combination of words given the class, the model simplifies it by multiplying the conditional probabilities of each word *individually* given the class.\n",
        "\n",
        "### Why is it Called \"Naive\"?\n",
        "\n",
        "This assumption is termed \"naive\" because it is almost never true in real-world text data. Words in natural language are inherently **dependent**. The presence of one word is often highly correlated with the presence of other words. Consider these examples:\n",
        "\n",
        "*   **Phrases:** The words \"credit\" and \"card\" frequently appear together. The probability of seeing \"card\" is much higher if you have just seen \"credit\".\n",
        "*   **Context:** Words like \"meeting\" are often followed by words like \"agenda\" or \"tomorrow\".\n",
        "*   **Related Terms:** If an email subject contains the word \"account\", it's more likely to also contain words like \"login\", \"security\", or \"compromised\".\n",
        "\n",
        "The Naive Bayes assumption completely ignores these dependencies. It treats the appearance of \"credit\" as independent of \"card\", given the class. So, if an email subject is \"Your credit card has been compromised\", the model calculates the probability of this subject given 'Spam' as $P(\\text{'Your'}|\\text{Spam}) \\times P(\\text{'credit'}|\\text{Spam}) \\times P(\\text{'card'}|\\text{Spam}) \\times P(\\text{'has'}|\\text{Spam}) \\times P(\\text{'been'}|\\text{Spam}) \\times P(\\text{'compromised'}|\\text{Spam})$. It doesn't consider the increased likelihood of \"card\" appearing because \"credit\" is present, or the strong spam signal from the *phrase* \"credit card compromised\".\n",
        "\n",
        "### Implications for This Email Dataset\n",
        "\n",
        "For our specific email dataset, the independence assumption has significant implications:\n",
        "\n",
        "*   **Ignoring Phrases and Combinations:** The model cannot directly learn the predictive power of word combinations or phrases that are strong indicators of spam or not spam. For instance, the phrase \"urgent action required for your account\" in a subject line is a very strong signal for a phishing attempt (spam). However, Naive Bayes only considers the individual likelihoods of the words \"urgent\", \"action\", \"required\", \"your\", \"for\", and \"account\" given the spam class. If these individual words also appear frequently in legitimate emails (e.g., \"urgent meeting\", \"action plan\", \"account update\"), their individual likelihoods might not be high enough in the spam class to outweigh their likelihoods in the not-spam class, leading to a misclassification.\n",
        "*   **Over- or Under-Weighting Words:** Because it treats words as independent, the model might effectively over-count the evidence from correlated words. If a subject contains multiple words that tend to appear together and are all indicative of spam (e.g., \"free\", \"prize\", \"winner\"), the model's score for the spam class might become very high because it's multiplying the probabilities of these individually, without accounting for the fact that seeing one makes seeing the others more likely. Conversely, it might miss the strong signal from a specific, less frequent phrase.\n",
        "*   **Sensitivity to Word Frequency:** The model heavily relies on individual word frequencies. If a word is very common in one class but rare in the other, it will have a strong influence. However, if a word appears frequently in both classes, even if it's part of a spam-indicative phrase, its likelihood ratio between classes might not be very informative.\n",
        "\n",
        "Consider the example subject: **'Urgent: Your account has been compromised'**. A human recognizes this phrase as highly suspicious. In a real-world scenario, \"compromised\" is very likely to appear with \"account\" in spam, and less likely in not-spam. The phrase \"account compromised\" is a much stronger spam indicator than \"account\" or \"compromised\" alone. The Naive Bayes model, due to independence, cannot capture this amplified signal from the combination. If, in our training data, \"account\" also appeared often in legitimate subjects like \"Account balance update\", the model might not give \"account\" a very high likelihood ratio for spam vs. not-spam, potentially leading to misclassification of the phishing attempt.\n",
        "\n",
        "### Trade-offs of the Independence Assumption\n",
        "\n",
        "Despite being an oversimplification of reality, the naive independence assumption offers significant benefits that make Naive Bayes a popular and effective baseline classifier, especially for text data:\n",
        "\n",
        "*   **Simplicity:** The model is conceptually straightforward. Calculating priors and individual word likelihoods is simple and intuitive. This makes it easy to understand, implement, and interpret.\n",
        "*   **Computational Efficiency:** This is a major advantage. Calculating the probability of a document given a class only requires summing the log probabilities of the individual words. The training process involves counting word frequencies, which is very fast. The model parameters to store are just the class priors and the likelihood for each word in the vocabulary for each class. This is vastly more efficient than models that attempt to model word dependencies (like N-gram models or sequence models), which would require calculating and storing probabilities for combinations of words, leading to a combinatorial explosion in the number of parameters. For large vocabularies and datasets, this efficiency is critical.\n",
        "*   **Good Performance (Often):** Surprisingly, despite the strong assumption, Naive Bayes often performs remarkably well in text classification tasks. This is partly because, even though the probability estimates $P(\\text{Document}|C)$ might be inaccurate due to the independence assumption, the *relative* ranking of these probabilities between classes ($P(\\text{Document}|\\text{Spam})$ vs. $P(\\text{Document}|\\text{Not Spam})$) can still be correct, leading to accurate classification. It effectively captures the overall sentiment or topic of a document based on the prevalence of certain words in different classes.\n",
        "\n",
        "In essence, Naive Bayes makes a pragmatic trade-off: it sacrifices the ability to model complex word relationships for significant gains in simplicity and computational efficiency. For many text classification problems, this trade-off is favorable, making it a strong and fast baseline model to consider.\n",
        "%%"
      ],
      "execution_count": null,
      "outputs": [
        {
          "output_type": "display_data",
          "data": {
            "text/plain": [
              "<IPython.core.display.Markdown object>"
            ],
            "text/markdown": "## Discussion of the Independence Assumption\n\nA fundamental concept that underpins the Naive Bayes classifier is its **independence assumption**. Understanding this assumption is crucial for appreciating how the model works, its strengths, and its limitations, especially in the context of text classification.\n\n### What is the Independence Assumption?\n\nIn the context of classifying an email subject as spam or not spam, the Naive Bayes classifier makes a strong simplifying assumption: **given the class (i.e., whether the email is spam or not spam), the presence or absence of any particular word in the subject line is independent of the presence or absence of any other word.**\n\nMathematically, if we have an email subject with words $w_1, w_2, \\ldots, w_n$, and we want to calculate the probability of this subject given a class $C$ (Spam or Not Spam), the Naive Bayes assumption allows us to calculate this as the product of the individual word probabilities given the class:\n\n$$P(w_1, w_2, \\ldots, w_n | C) = P(w_1 | C) \\times P(w_2 | C) \\times \\cdots \\times P(w_n | C)$$\n\nInstead of needing to calculate the complex joint probability of seeing the entire sequence or combination of words given the class, the model simplifies it by multiplying the conditional probabilities of each word *individually* given the class.\n\n### Why is it Called \"Naive\"?\n\nThis assumption is termed \"naive\" because it is almost never true in real-world text data. Words in natural language are inherently **dependent**. The presence of one word is often highly correlated with the presence of other words. Consider these examples:\n\n*   **Phrases:** The words \"credit\" and \"card\" frequently appear together. The probability of seeing \"card\" is much higher if you have just seen \"credit\".\n*   **Context:** Words like \"meeting\" are often followed by words like \"agenda\" or \"tomorrow\".\n*   **Related Terms:** If an email subject contains the word \"account\", it's more likely to also contain words like \"login\", \"security\", or \"compromised\".\n\nThe Naive Bayes assumption completely ignores these dependencies. It treats the appearance of \"credit\" as independent of \"card\", given the class. So, if an email subject is \"Your credit card has been compromised\", the model calculates the probability of this subject given 'Spam' as $P(\\text{'Your'}|\\text{Spam}) \\times P(\\text{'credit'}|\\text{Spam}) \\times P(\\text{'card'}|\\text{Spam}) \\times P(\\text{'has'}|\\text{Spam}) \\times P(\\text{'been'}|\\text{Spam}) \\times P(\\text{'compromised'}|\\text{Spam})$. It doesn't consider the increased likelihood of \"card\" appearing because \"credit\" is present, or the strong spam signal from the *phrase* \"credit card compromised\".\n\n### Implications for This Email Dataset\n\nFor our specific email dataset, the independence assumption has significant implications:\n\n*   **Ignoring Phrases and Combinations:** The model cannot directly learn the predictive power of word combinations or phrases that are strong indicators of spam or not spam. For instance, the phrase \"urgent action required for your account\" in a subject line is a very strong signal for a phishing attempt (spam). However, Naive Bayes only considers the individual likelihoods of the words \"urgent\", \"action\", \"required\", \"your\", \"for\", and \"account\" given the spam class. If these individual words also appear frequently in legitimate emails (e.g., \"urgent meeting\", \"action plan\", \"account update\"), their individual likelihoods might not be high enough in the spam class to outweigh their likelihoods in the not-spam class, leading to a misclassification.\n*   **Over- or Under-Weighting Words:** Because it treats words as independent, the model might effectively over-count the evidence from correlated words. If a subject contains multiple words that tend to appear together and are all indicative of spam (e.g., \"free\", \"prize\", \"winner\"), the model's score for the spam class might become very high because it's multiplying the probabilities of these individually, without accounting for the fact that seeing one makes seeing the others more likely. Conversely, it might miss the strong signal from a specific, less frequent phrase.\n*   **Sensitivity to Word Frequency:** The model heavily relies on individual word frequencies. If a word is very common in one class but rare in the other, it will have a strong influence. However, if a word appears frequently in both classes, even if it's part of a spam-indicative phrase, its likelihood ratio between classes might not be very informative.\n\nConsider the example subject: **'Urgent: Your account has been compromised'**. A human recognizes this phrase as highly suspicious. In a real-world scenario, \"compromised\" is very likely to appear with \"account\" in spam, and less likely in not-spam. The phrase \"account compromised\" is a much stronger spam indicator than \"account\" or \"compromised\" alone. The Naive Bayes model, due to independence, cannot capture this amplified signal from the combination. If, in our training data, \"account\" also appeared often in legitimate subjects like \"Account balance update\", the model might not give \"account\" a very high likelihood ratio for spam vs. not-spam, potentially leading to misclassification of the phishing attempt.\n\n### Trade-offs of the Independence Assumption\n\nDespite being an oversimplification of reality, the naive independence assumption offers significant benefits that make Naive Bayes a popular and effective baseline classifier, especially for text data:\n\n*   **Simplicity:** The model is conceptually straightforward. Calculating priors and individual word likelihoods is simple and intuitive. This makes it easy to understand, implement, and interpret.\n*   **Computational Efficiency:** This is a major advantage. Calculating the probability of a document given a class only requires summing the log probabilities of the individual words. The training process involves counting word frequencies, which is very fast. The model parameters to store are just the class priors and the likelihood for each word in the vocabulary for each class. This is vastly more efficient than models that attempt to model word dependencies (like N-gram models or sequence models), which would require calculating and storing probabilities for combinations of words, leading to a combinatorial explosion in the number of parameters. For large vocabularies and datasets, this efficiency is critical.\n*   **Good Performance (Often):** Surprisingly, despite the strong assumption, Naive Bayes often performs remarkably well in text classification tasks. This is partly because, even though the probability estimates $P(\\text{Document}|C)$ might be inaccurate due to the independence assumption, the *relative* ranking of these probabilities between classes ($P(\\text{Document}|\\text{Spam})$ vs. $P(\\text{Document}|\\text{Not Spam})$) can still be correct, leading to accurate classification. It effectively captures the overall sentiment or topic of a document based on the prevalence of certain words in different classes.\n\nIn essence, Naive Bayes makes a pragmatic trade-off: it sacrifices the ability to model complex word relationships for significant gains in simplicity and computational efficiency. For many text classification problems, this trade-off is favorable, making it a strong and fast baseline model to consider.\n%%\n"
          },
          "metadata": {}
        }
      ]
    },
    {
      "cell_type": "code",
      "metadata": {
        "colab": {
          "base_uri": "https://localhost:8080/",
          "height": 930
        },
        "id": "2ef17b48",
        "outputId": "88c9c5bf-7561-4cb8-a1b8-7a5f533cbd7d"
      },
      "source": [
        "%%markdown\n",
        "## Visualize Data and Results\n",
        "\n",
        "Visualizations are powerful tools for understanding the characteristics of our dataset and gaining insights into the potential behavior of our classifiers. They can help us see patterns, distributions, and key features that might not be immediately obvious from raw numbers or summary statistics. In this section, we create several visualizations to illustrate different aspects of our email dataset and the features used by the Naive Bayes classifier.\n",
        "\n",
        "Here's a breakdown of the visualizations generated:\n",
        "\n",
        "1.  **Distribution of Email Status (Original Data):**\n",
        "    *   **What it shows:** This bar chart displays the counts of emails for each category in the original `Status` column (`Archived`, `Bounced`, `Accepted`, etc.) from the raw `df` DataFrame. The bars are typically ordered from the most frequent status to the least frequent.\n",
        "    *   **Insights:** This visualization provides a high-level overview of the types of email processing outcomes present in our dataset. It shows which statuses are most common and the overall variety of states an email can be in.\n",
        "    *   **Relevance to Naive Bayes:** While the `Status` column isn't directly used as the target variable in its original multi-category form, understanding its distribution helps contextualize the data. It shows the raw categories from which our binary 'is_spam' target is derived. It also implicitly shows the presence of different email processing paths within the dataset.\n",
        "\n",
        "2.  **Distribution of Spam vs. Not Spam Emails (Binary Target):**\n",
        "    *   **What it shows:** This bar chart visualizes the counts of emails in our binary target variable `is_spam` from the `df_cleaned` DataFrame. It clearly shows the number of emails labeled as 'Not Spam' (0) and 'Spam' (1).\n",
        "    *   **Insights:** This is a critical visualization for our classification task. It directly shows the class distribution of our target variable. Observing the counts for 'Spam' and 'Not Spam' immediately reveals if the dataset is balanced or imbalanced. In our case, we see there are fewer spam emails than not-spam emails, indicating class imbalance.\n",
        "    *   **Relevance to Naive Bayes:** The class distribution directly impacts the calculation of the **prior probabilities** for the Naive Bayes classifier. If the dataset is imbalanced, the prior probability of the majority class will be higher, influencing the final classification decision, especially for emails with ambiguous content. Understanding this imbalance is important when interpreting model results and potentially considering techniques to address it if needed (though for Naive Bayes, the priors naturally account for it to some extent).\n",
        "\n",
        "3.  **Top Most Frequent Words in Spam Emails:**\n",
        "    *   **What it shows:** This horizontal bar chart displays the top N (e.g., 20) words that appear most frequently in the subject lines of emails labeled as 'Spam'.\n",
        "    *   **Insights:** This visualization gives us a direct look into the vocabulary and common themes present in spam emails within our dataset. We can expect to see words typically associated with spam, such as promotional terms, urgent calls to action, or suspicious financial language. This helps confirm our intuition about what constitutes a \"spammy\" subject line in this dataset.\n",
        "    *   **Relevance to Naive Bayes:** The frequencies shown here are directly related to the calculation of **word likelihoods** for the 'spam' class. Words that appear very frequently in spam emails will have higher $P(\\text{Word} | \\text{Spam})$ values. These high likelihoods contribute significantly to the log-posterior probability calculation for the 'spam' class when these words are present in a new email subject. This visualization visually represents the key features (words) that the Naive Bayes model learns to associate with the spam class.\n",
        "\n",
        "4.  **Top Most Frequent Words in Not Spam Emails:**\n",
        "    *   **What it shows:** Similar to the previous plot, this horizontal bar chart shows the top N (e.g., 20) words that appear most frequently in the subject lines of emails labeled as 'Not Spam'.\n",
        "    *   **Insights:** This visualization reveals the common vocabulary and themes present in legitimate (not spam) email subjects in our dataset. We would expect to see words related to meetings, projects, updates, reports, etc. Comparing this list to the top spam words highlights the distinguishing vocabulary between the two classes.\n",
        "    *   **Relevance to Naive Bayes:** The frequencies here inform the calculation of **word likelihoods** for the 'not_spam' class, contributing to the $P(\\text{Word} | \\text{Not Spam})$ values. Words that are frequent in not-spam emails will have higher likelihoods in this class. When these words appear in a new email, their high likelihoods for 'not_spam' contribute to the log-posterior calculation for that class. This visualization shows the words that the Naive Bayes model learns to associate with the not-spam class, helping it discriminate between legitimate and unwanted emails.\n",
        "\n",
        "Together, these visualizations provide a comprehensive visual summary of our data's structure, the class distribution we are trying to predict, and the salient features (words) that are most indicative of each class. This visual evidence aligns directly with the probabilistic components (priors and likelihoods) that form the basis of our Naive Bayes classifiers, making the model's learning process more transparent.\n",
        "%%"
      ],
      "execution_count": null,
      "outputs": [
        {
          "output_type": "display_data",
          "data": {
            "text/plain": [
              "<IPython.core.display.Markdown object>"
            ],
            "text/markdown": "## Visualize Data and Results\n\nVisualizations are powerful tools for understanding the characteristics of our dataset and gaining insights into the potential behavior of our classifiers. They can help us see patterns, distributions, and key features that might not be immediately obvious from raw numbers or summary statistics. In this section, we create several visualizations to illustrate different aspects of our email dataset and the features used by the Naive Bayes classifier.\n\nHere's a breakdown of the visualizations generated:\n\n1.  **Distribution of Email Status (Original Data):**\n    *   **What it shows:** This bar chart displays the counts of emails for each category in the original `Status` column (`Archived`, `Bounced`, `Accepted`, etc.) from the raw `df` DataFrame. The bars are typically ordered from the most frequent status to the least frequent.\n    *   **Insights:** This visualization provides a high-level overview of the types of email processing outcomes present in our dataset. It shows which statuses are most common and the overall variety of states an email can be in.\n    *   **Relevance to Naive Bayes:** While the `Status` column isn't directly used as the target variable in its original multi-category form, understanding its distribution helps contextualize the data. It shows the raw categories from which our binary 'is_spam' target is derived. It also implicitly shows the presence of different email processing paths within the dataset.\n\n2.  **Distribution of Spam vs. Not Spam Emails (Binary Target):**\n    *   **What it shows:** This bar chart visualizes the counts of emails in our binary target variable `is_spam` from the `df_cleaned` DataFrame. It clearly shows the number of emails labeled as 'Not Spam' (0) and 'Spam' (1).\n    *   **Insights:** This is a critical visualization for our classification task. It directly shows the class distribution of our target variable. Observing the counts for 'Spam' and 'Not Spam' immediately reveals if the dataset is balanced or imbalanced. In our case, we see there are fewer spam emails than not-spam emails, indicating class imbalance.\n    *   **Relevance to Naive Bayes:** The class distribution directly impacts the calculation of the **prior probabilities** for the Naive Bayes classifier. If the dataset is imbalanced, the prior probability of the majority class will be higher, influencing the final classification decision, especially for emails with ambiguous content. Understanding this imbalance is important when interpreting model results and potentially considering techniques to address it if needed (though for Naive Bayes, the priors naturally account for it to some extent).\n\n3.  **Top Most Frequent Words in Spam Emails:**\n    *   **What it shows:** This horizontal bar chart displays the top N (e.g., 20) words that appear most frequently in the subject lines of emails labeled as 'Spam'.\n    *   **Insights:** This visualization gives us a direct look into the vocabulary and common themes present in spam emails within our dataset. We can expect to see words typically associated with spam, such as promotional terms, urgent calls to action, or suspicious financial language. This helps confirm our intuition about what constitutes a \"spammy\" subject line in this dataset.\n    *   **Relevance to Naive Bayes:** The frequencies shown here are directly related to the calculation of **word likelihoods** for the 'spam' class. Words that appear very frequently in spam emails will have higher $P(\\text{Word} | \\text{Spam})$ values. These high likelihoods contribute significantly to the log-posterior probability calculation for the 'spam' class when these words are present in a new email subject. This visualization visually represents the key features (words) that the Naive Bayes model learns to associate with the spam class.\n\n4.  **Top Most Frequent Words in Not Spam Emails:**\n    *   **What it shows:** Similar to the previous plot, this horizontal bar chart shows the top N (e.g., 20) words that appear most frequently in the subject lines of emails labeled as 'Not Spam'.\n    *   **Insights:** This visualization reveals the common vocabulary and themes present in legitimate (not spam) email subjects in our dataset. We would expect to see words related to meetings, projects, updates, reports, etc. Comparing this list to the top spam words highlights the distinguishing vocabulary between the two classes.\n    *   **Relevance to Naive Bayes:** The frequencies here inform the calculation of **word likelihoods** for the 'not_spam' class, contributing to the $P(\\text{Word} | \\text{Not Spam})$ values. Words that are frequent in not-spam emails will have higher likelihoods in this class. When these words appear in a new email, their high likelihoods for 'not_spam' contribute to the log-posterior calculation for that class. This visualization shows the words that the Naive Bayes model learns to associate with the not-spam class, helping it discriminate between legitimate and unwanted emails.\n\nTogether, these visualizations provide a comprehensive visual summary of our data's structure, the class distribution we are trying to predict, and the salient features (words) that are most indicative of each class. This visual evidence aligns directly with the probabilistic components (priors and likelihoods) that form the basis of our Naive Bayes classifiers, making the model's learning process more transparent.\n%%\n"
          },
          "metadata": {}
        }
      ]
    },
    {
      "cell_type": "code",
      "metadata": {
        "colab": {
          "base_uri": "https://localhost:8080/",
          "height": 977
        },
        "id": "f92e999b",
        "outputId": "446701e4-cee7-4d25-81be-0321ce50bbec"
      },
      "source": [
        "%%markdown\n",
        "## Conclusion\n",
        "\n",
        "In this notebook, we embarked on a comprehensive journey to understand and implement the Naive Bayes classifier for email spam detection. We successfully built the classifier both manually from scratch and by leveraging the efficient `MultinomialNB` implementation from the scikit-learn library.\n",
        "\n",
        "**Key Findings and Summary:**\n",
        "\n",
        "*   We started by loading and exploring the dataset, identifying key columns and the presence of missing data, particularly in the `Spam Detection` field.\n",
        "*   The data preprocessing steps were crucial, involving selecting the relevant `Subject` column, handling missing values by replacing them with empty strings, and transforming the `Spam Detection` status into a clear binary `is_spam` target variable (1 for detected spam, 0 otherwise).\n",
        "*   Text vectorization using `CountVectorizer` converted the email subjects into a numerical feature matrix (word counts), along with building a vocabulary of unique words.\n",
        "*   In the **manual implementation**, we calculated the **prior probabilities** of emails being spam or not spam based on their proportions in the dataset. We then calculated the **word likelihoods** (conditional probabilities of words given each class) and applied **Laplace smoothing** to address the zero probability problem for unseen words.\n",
        "*   The manual classification process involved using these calculated priors and likelihoods in Bayes' theorem (working with logarithms to ensure numerical stability) to determine the most probable class for new email subjects based on the words they contained.\n",
        "*   For comparison, we used the **scikit-learn `MultinomialNB` classifier**, which abstracted away the manual calculations, performing them efficiently during its `.fit()` method on the vectorized data and binary target.\n",
        "*   Comparing the predictions of the hand-coded and scikit-learn classifiers on example emails revealed a high degree of agreement, especially for clear-cut spam or not-spam subjects. Any discrepancies noted were discussed as likely stemming from subtle differences in floating-point precision, internal smoothing implementations, or handling of sparse matrix operations between the manual version and the highly optimized library code.\n",
        "*   We delved into a detailed discussion of the **independence assumption** – the core \"naive\" assumption of Naive Bayes that words are conditionally independent given the class. We explained why this assumption is generally false in natural language due to word dependencies (phrases, context) but highlighted the significant trade-offs it offers in terms of **simplicity** and **computational efficiency**, making Naive Bayes a powerful and fast baseline model despite its limitations.\n",
        "\n",
        "**Learning from Manual vs. Library Implementation:**\n",
        "\n",
        "Implementing Naive Bayes from scratch provided invaluable insight into the algorithm's inner workings, forcing us to understand the probabilistic foundations – how priors and likelihoods are calculated and combined using Bayes' theorem. It also exposed the practical challenges like the zero probability problem and the need for numerical stability (using logarithms).\n",
        "\n",
        "In contrast, using the scikit-learn library demonstrated the power of abstraction and optimization. The `MultinomialNB` class handles all the complex calculations efficiently and robustly, allowing for rapid model training and prediction. This comparison underscores that while understanding the underlying principles through manual implementation is crucial for a data scientist, leveraging well-tested and optimized libraries is essential for building practical, scalable, and reliable machine learning systems in real-world applications.\n",
        "\n",
        "**Potential Next Steps and Areas for Improvement:**\n",
        "\n",
        "While Naive Bayes is a good baseline, several avenues could be explored to potentially improve performance or gain further insights:\n",
        "\n",
        "*   **Address Class Imbalance:** The dataset exhibits class imbalance (more not-spam than spam). Techniques like oversampling the minority class (spam), undersampling the majority class (not-spam), or using class weights in the scikit-learn classifier could be investigated to see if they improve the detection rate of spam emails.\n",
        "*   **Experiment with TF-IDF Vectorization:** Instead of simple word counts (`CountVectorizer`), using TF-IDF (`TfidfVectorizer`) could provide a better feature representation. TF-IDF weights words based on their frequency within a document and their rarity across the entire corpus, potentially giving more importance to words that are highly discriminative of spam or not spam.\n",
        "*   **Explore N-grams:** To partially mitigate the independence assumption, incorporating n-grams (sequences of 2 or 3 words, e.g., \"free prize\", \"urgent action\") as features could capture some word dependencies and potentially improve classification accuracy, especially for spam that relies on specific phrases.\n",
        "*   **Hyperparameter Tuning:** For the scikit-learn `MultinomialNB`, systematically tuning the `alpha` smoothing parameter using techniques like cross-validation could lead to better performance on unseen data.\n",
        "*   **Compare with Other Models:** Evaluating other classification algorithms suitable for text data (e.g., Logistic Regression, Support Vector Machines, or even simple neural networks) on this dataset would provide a broader context for the performance of Naive Bayes.\n",
        "*   **More Sophisticated Preprocessing:** Additional text cleaning steps like removing stop words (common words), stemming (reducing words to root form), or lemmatization (reducing words to dictionary form) could be explored to see their impact on model performance.\n",
        "\n",
        "In conclusion, this project successfully demonstrated the implementation, application, and critical analysis of the Naive Bayes classifier for email spam detection. It provided a valuable learning experience in understanding the algorithm's probabilistic core, appreciating the benefits of library implementations, and recognizing the impact of its key assumptions on real-world data.\n",
        "%%"
      ],
      "execution_count": null,
      "outputs": [
        {
          "output_type": "display_data",
          "data": {
            "text/plain": [
              "<IPython.core.display.Markdown object>"
            ],
            "text/markdown": "## Conclusion\n\nIn this notebook, we embarked on a comprehensive journey to understand and implement the Naive Bayes classifier for email spam detection. We successfully built the classifier both manually from scratch and by leveraging the efficient `MultinomialNB` implementation from the scikit-learn library.\n\n**Key Findings and Summary:**\n\n*   We started by loading and exploring the dataset, identifying key columns and the presence of missing data, particularly in the `Spam Detection` field.\n*   The data preprocessing steps were crucial, involving selecting the relevant `Subject` column, handling missing values by replacing them with empty strings, and transforming the `Spam Detection` status into a clear binary `is_spam` target variable (1 for detected spam, 0 otherwise).\n*   Text vectorization using `CountVectorizer` converted the email subjects into a numerical feature matrix (word counts), along with building a vocabulary of unique words.\n*   In the **manual implementation**, we calculated the **prior probabilities** of emails being spam or not spam based on their proportions in the dataset. We then calculated the **word likelihoods** (conditional probabilities of words given each class) and applied **Laplace smoothing** to address the zero probability problem for unseen words.\n*   The manual classification process involved using these calculated priors and likelihoods in Bayes' theorem (working with logarithms to ensure numerical stability) to determine the most probable class for new email subjects based on the words they contained.\n*   For comparison, we used the **scikit-learn `MultinomialNB` classifier**, which abstracted away the manual calculations, performing them efficiently during its `.fit()` method on the vectorized data and binary target.\n*   Comparing the predictions of the hand-coded and scikit-learn classifiers on example emails revealed a high degree of agreement, especially for clear-cut spam or not-spam subjects. Any discrepancies noted were discussed as likely stemming from subtle differences in floating-point precision, internal smoothing implementations, or handling of sparse matrix operations between the manual version and the highly optimized library code.\n*   We delved into a detailed discussion of the **independence assumption** – the core \"naive\" assumption of Naive Bayes that words are conditionally independent given the class. We explained why this assumption is generally false in natural language due to word dependencies (phrases, context) but highlighted the significant trade-offs it offers in terms of **simplicity** and **computational efficiency**, making Naive Bayes a powerful and fast baseline model despite its limitations.\n\n**Learning from Manual vs. Library Implementation:**\n\nImplementing Naive Bayes from scratch provided invaluable insight into the algorithm's inner workings, forcing us to understand the probabilistic foundations – how priors and likelihoods are calculated and combined using Bayes' theorem. It also exposed the practical challenges like the zero probability problem and the need for numerical stability (using logarithms).\n\nIn contrast, using the scikit-learn library demonstrated the power of abstraction and optimization. The `MultinomialNB` class handles all the complex calculations efficiently and robustly, allowing for rapid model training and prediction. This comparison underscores that while understanding the underlying principles through manual implementation is crucial for a data scientist, leveraging well-tested and optimized libraries is essential for building practical, scalable, and reliable machine learning systems in real-world applications.\n\n**Potential Next Steps and Areas for Improvement:**\n\nWhile Naive Bayes is a good baseline, several avenues could be explored to potentially improve performance or gain further insights:\n\n*   **Address Class Imbalance:** The dataset exhibits class imbalance (more not-spam than spam). Techniques like oversampling the minority class (spam), undersampling the majority class (not-spam), or using class weights in the scikit-learn classifier could be investigated to see if they improve the detection rate of spam emails.\n*   **Experiment with TF-IDF Vectorization:** Instead of simple word counts (`CountVectorizer`), using TF-IDF (`TfidfVectorizer`) could provide a better feature representation. TF-IDF weights words based on their frequency within a document and their rarity across the entire corpus, potentially giving more importance to words that are highly discriminative of spam or not spam.\n*   **Explore N-grams:** To partially mitigate the independence assumption, incorporating n-grams (sequences of 2 or 3 words, e.g., \"free prize\", \"urgent action\") as features could capture some word dependencies and potentially improve classification accuracy, especially for spam that relies on specific phrases.\n*   **Hyperparameter Tuning:** For the scikit-learn `MultinomialNB`, systematically tuning the `alpha` smoothing parameter using techniques like cross-validation could lead to better performance on unseen data.\n*   **Compare with Other Models:** Evaluating other classification algorithms suitable for text data (e.g., Logistic Regression, Support Vector Machines, or even simple neural networks) on this dataset would provide a broader context for the performance of Naive Bayes.\n*   **More Sophisticated Preprocessing:** Additional text cleaning steps like removing stop words (common words), stemming (reducing words to root form), or lemmatization (reducing words to dictionary form) could be explored to see their impact on model performance.\n\nIn conclusion, this project successfully demonstrated the implementation, application, and critical analysis of the Naive Bayes classifier for email spam detection. It provided a valuable learning experience in understanding the algorithm's probabilistic core, appreciating the benefits of library implementations, and recognizing the impact of its key assumptions on real-world data.\n%%\n"
          },
          "metadata": {}
        }
      ]
    },
    {
      "cell_type": "markdown",
      "metadata": {
        "id": "9d6ea483"
      },
      "source": [
        "## Summary:\n",
        "\n",
        "### Data Analysis Key Findings\n",
        "\n",
        "*   The dataset contains 5000 emails with subject lines and spam detection status.\n",
        "*   The data preprocessing involved selecting the 'Subject' and 'Spam Detection' columns, handling missing values in the 'Subject' by replacing them with empty strings, and creating a binary 'is\\_spam' target variable based on the 'Spam Detection' column's non-null status.\n",
        "*   The dataset exhibits class imbalance, with more 'not\\_spam' emails than 'spam' emails.\n",
        "*   Manual implementation of Naive Bayes involved calculating prior probabilities based on class distribution and smoothed word likelihoods using Laplace smoothing to handle unseen words.\n",
        "*   The manual classification process used logarithms to avoid numerical underflow when combining probabilities via Bayes' theorem.\n",
        "*   Scikit-learn's `MultinomialNB` provides a more concise and efficient implementation of Naive Bayes, handling probabilistic calculations and smoothing internally.\n",
        "*   Both manual and scikit-learn classifiers largely agreed on predictions for clear spam/not-spam examples but could differ on more ambiguous cases, potentially due to subtle implementation details or the independence assumption's impact on complex phrases.\n",
        "*   The Naive Bayes independence assumption simplifies the model and makes it computationally efficient but ignores valuable word dependencies and phrases in text.\n",
        "*   Visualizations confirmed the dataset's class distribution and highlighted the most frequent words distinguishing spam from not spam, aligning with the features learned by the Naive Bayes model.\n",
        "\n",
        "### Insights or Next Steps\n",
        "\n",
        "*   Class imbalance could be addressed using techniques like oversampling or class weights to potentially improve spam detection performance.\n",
        "*   Exploring TF-IDF vectorization or incorporating n-grams could potentially improve classification accuracy by providing a more discriminative feature representation or partially mitigating the independence assumption.\n"
      ]
    }
  ]
}